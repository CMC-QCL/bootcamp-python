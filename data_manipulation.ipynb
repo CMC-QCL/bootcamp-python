{
 "cells": [
  {
   "cell_type": "markdown",
   "id": "0ef8ad25",
   "metadata": {},
   "source": [
    "# Python: Data Manipulation\n",
    "\n",
    "Welcome to the QCL Bootcamp. Today's topic is **Data Manipulation**.\n",
    "\n",
    "I will assume you are familiar with the topics covered in the **Practical Programming with Python** Workshop (Level 1):\n",
    "\n",
    "* Basics of Jupyter notebook\n",
    "* Variables\n",
    "* Functions\n",
    "* Lists and dictionaries\n",
    "* For loops\n",
    "* Conditional statements\n",
    "\n",
    "![](https://raw.githubusercontent.com/CMC-QCL/python-data-manipulation/main/imgs/np_pd_logos.png)\n",
    "\n",
    "By the end of this workshop you will be able to:\n",
    "\n",
    "* Import and export data\n",
    "* Explore and subset DataFrames\n",
    "* Detect and deal with missing data\n",
    "* Change between data types"
   ]
  },
  {
   "cell_type": "markdown",
   "id": "8823b577",
   "metadata": {},
   "source": [
    "## Jupyter Notebooks review\n",
    "\n",
    "There are 2 modes: command mode (blue) and edit mode (green). To enter command mode, press `Esc`. To enter edit mode, select a cell and press `Enter`.\n",
    "\n",
    "To run the selected cells, press `Ctrl + Enter` on Windows or `⌘ + Enter` on Mac.\n",
    "\n",
    "A Code cell will evaluate Python code and show the result (if there's anything to show)."
   ]
  },
  {
   "cell_type": "markdown",
   "id": "48922276",
   "metadata": {},
   "source": [
    "## Today's data\n",
    "\n",
    "Today's data was taken from [Kaggle](https://www.kaggle.com/). The dataset was scrapped from [IMDb](https://www.imdb.com/), a website that contains information about movies and TV shows. Registered users' votes are then summarized as their rating.\n",
    "\n",
    "The goal for today will be to explore and clean the IMDb's top [50,000 TV shows](https://www.kaggle.com/datasets/muralidharbhusal/50000-imdb-tv-and-web-series) dataset."
   ]
  },
  {
   "cell_type": "markdown",
   "id": "830cde8c",
   "metadata": {},
   "source": [
    "## Pandas and Numpy\n",
    "\n",
    "Pandas is a powerful and flexible library used for data exploration and transformation. Pandas is built on top of NumPy and uses DataFrames as its main data structure. NumPy (Numerical Python) provides the tools for efficient numerical computation (e.g. matrix multiplication) and uses multidimensional arrays as its data structure.\n",
    "\n",
    "|                         Pandas                        |                   NumPy                  |\n",
    "|:-----------------------------------------------------:|:----------------------------------------:|\n",
    "|          Uses a 2D data structure (DataFrame)         | Capable of using multidimensional arrays |\n",
    "|               Slower compared with NumPy              |            Faster than Pandas            |\n",
    "| Columns in a DataFrame can be of different data types | Arrays can only be of one data type      |"
   ]
  },
  {
   "cell_type": "markdown",
   "id": "75b4f20f",
   "metadata": {},
   "source": [
    "To use a library in Python, we first need to import it using an `import` statement. For example, we can import NumPy."
   ]
  },
  {
   "cell_type": "code",
   "execution_count": 1,
   "id": "116e311d",
   "metadata": {},
   "outputs": [
    {
     "name": "stdout",
     "output_type": "stream",
     "text": [
      "3.141592653589793\n"
     ]
    }
   ],
   "source": [
    "# Import NumPy\n",
    "import numpy\n",
    "\n",
    "print(numpy.pi)"
   ]
  },
  {
   "cell_type": "code",
   "execution_count": 2,
   "id": "178ab9f3",
   "metadata": {},
   "outputs": [
    {
     "name": "stdout",
     "output_type": "stream",
     "text": [
      "3.141592653589793\n"
     ]
    }
   ],
   "source": [
    "# Import with an alias\n",
    "import numpy as np\n",
    "\n",
    "print(np.pi)"
   ]
  },
  {
   "cell_type": "markdown",
   "id": "17d6f479",
   "metadata": {},
   "source": [
    "## Pandas DataFrames\n",
    "\n",
    "A DataFrame is a 2D data structure where each column can be of a different type. Both, rows and columns are labeled.\n",
    "\n",
    "### Create a DataFrame\n",
    "\n",
    "One way to construct a DataFrame is by using a dictionary."
   ]
  },
  {
   "cell_type": "code",
   "execution_count": 3,
   "id": "07d49f7a",
   "metadata": {},
   "outputs": [
    {
     "name": "stdout",
     "output_type": "stream",
     "text": [
      "             Title  Release Year  Rating\n",
      "0        Wednesday          2022     8.2\n",
      "1  The White Lotus          2021     7.9\n"
     ]
    }
   ],
   "source": [
    "import pandas as pd\n",
    "\n",
    "# Create a dictionary\n",
    "data_dict = {\"Title\": [\"Wednesday\", \"The White Lotus\"], \n",
    "             \"Release Year\": [2022, 2021], \n",
    "             \"Rating\": [8.2, 7.9]}\n",
    "\n",
    "# Create the DataFrame\n",
    "df = pd.DataFrame(data_dict)\n",
    "print(df)"
   ]
  },
  {
   "cell_type": "markdown",
   "id": "5151b667",
   "metadata": {},
   "source": [
    "Creating DataFrames by hand is useful for testing purposes. However, in most cases we will need to read our data from a CSV (Comma Separated Values) file or any other file format."
   ]
  },
  {
   "cell_type": "markdown",
   "id": "3e1ce7c1",
   "metadata": {},
   "source": [
    "### Importing data\n",
    "\n",
    "Pandas has many functions to import data from different sources. For example, we can read CSV files using the `read_csv()` function."
   ]
  },
  {
   "cell_type": "code",
   "execution_count": 4,
   "id": "aae87652",
   "metadata": {},
   "outputs": [],
   "source": [
    "# Read today's data\n",
    "imdb = pd.read_csv(\"data/imdb_tv_series.csv\")"
   ]
  },
  {
   "cell_type": "markdown",
   "id": "c2e7dde1",
   "metadata": {},
   "source": [
    "<div class=\"alert alert-block alert-warning\">\n",
    "    <b>Note:</b> Pandas also has functions to read Excel files (<code>read_excel()</code>) and even SQL files (<code>read_sql()</code>).\n",
    "</div>"
   ]
  },
  {
   "cell_type": "markdown",
   "id": "3743566f",
   "metadata": {},
   "source": []
  },
  {
   "cell_type": "markdown",
   "id": "d5ec7366",
   "metadata": {},
   "source": [
    "<div class=\"alert alert-block alert-success\">\n",
    "    <b>Hands-on:</b> Read the <code>\"2019.csv\"</code> files in the <code>\"data/\"</code> folder and save it to the \"happiness2019\" variable.\n",
    "</div>"
   ]
  },
  {
   "cell_type": "code",
   "execution_count": 5,
   "id": "c2136759",
   "metadata": {},
   "outputs": [],
   "source": [
    "# Read your file\n",
    "happiness2019 = pd.read_csv(\"data/2019.csv\")"
   ]
  },
  {
   "cell_type": "markdown",
   "id": "6a5d0e14",
   "metadata": {},
   "source": [
    "### Exploring your DataFrame\n",
    "\n",
    "The IMDb dataset is considerably larger than our first DataFrame which is why printing the whole thing is not recommended."
   ]
  },
  {
   "cell_type": "code",
   "execution_count": 6,
   "id": "8a258e15",
   "metadata": {},
   "outputs": [
    {
     "name": "stdout",
     "output_type": "stream",
     "text": [
      "                                           Title  Release Year  End Year  \\\n",
      "0                                      Wednesday        2022.0       NaN   \n",
      "1                                    Yellowstone        2018.0       NaN   \n",
      "2                                The White Lotus        2021.0    2023.0   \n",
      "3                                           1923        2022.0    2023.0   \n",
      "4                                      Jack Ryan        2018.0       NaN   \n",
      "...                                          ...           ...       ...   \n",
      "49995          Law & Order: Special Victims Unit        1999.0       NaN   \n",
      "49996                                 Doctor Who        2005.0       NaN   \n",
      "49997  The Lord of the Rings: The Rings of Power        2022.0       NaN   \n",
      "49998                                   The Bear        2022.0       NaN   \n",
      "49999                               Supernatural        2005.0    2020.0   \n",
      "\n",
      "      Rating                                               Cast Runtime  \\\n",
      "0        8.2  Jenna Ortega, Hunter Doohan, Percy Hynes White...  45 min   \n",
      "1        8.7  Kevin Costner, Luke Grimes, Kelly Reilly, Wes ...  60 min   \n",
      "2        7.9  Jennifer Coolidge, Jon Gries, F. Murray Abraha...  60 min   \n",
      "3        8.6  Harrison Ford, Helen Mirren, Brandon Sklenar, ...  60 min   \n",
      "4          8  John Krasinski, Wendell Pierce, Michael Kelly,...  60 min   \n",
      "...      ...                                                ...     ...   \n",
      "49995    8.1  Mariska Hargitay, Christopher Meloni, Ice-T, D...  60 min   \n",
      "49996    8.6  Jodie Whittaker, Peter Capaldi, Pearl Mackie, ...  45 min   \n",
      "49997    6.9  Morfydd Clark, Ismael Cruz Cordova, Charlie Vi...    ****   \n",
      "49998    8.4  Jeremy Allen White, Ebon Moss-Bachrach, Ayo Ed...  30 min   \n",
      "49999    8.4  Jared Padalecki, Jensen Ackles, Jim Beaver, Mi...  44 min   \n",
      "\n",
      "                          Genre  \n",
      "0        Comedy, Crime, Fantasy  \n",
      "1                Drama, Western  \n",
      "2                 Comedy, Drama  \n",
      "3                Drama, Western  \n",
      "4       Action, Drama, Thriller  \n",
      "...                         ...  \n",
      "49995     Crime, Drama, Mystery  \n",
      "49996  Adventure, Drama, Sci-Fi  \n",
      "49997  Action, Adventure, Drama  \n",
      "49998             Comedy, Drama  \n",
      "49999    Drama, Fantasy, Horror  \n",
      "\n",
      "[50000 rows x 7 columns]\n"
     ]
    }
   ],
   "source": [
    "# Print the IMDB DataFrame\n",
    "print(imdb)"
   ]
  },
  {
   "cell_type": "markdown",
   "id": "60b1e765",
   "metadata": {},
   "source": [
    "However, we can explore our dataset using some useful Pandas functions. The `head()` function will print the first 5 rows of our DataFrame by default."
   ]
  },
  {
   "cell_type": "code",
   "execution_count": 7,
   "id": "7a1aac61",
   "metadata": {},
   "outputs": [
    {
     "data": {
      "text/html": [
       "<div>\n",
       "<style scoped>\n",
       "    .dataframe tbody tr th:only-of-type {\n",
       "        vertical-align: middle;\n",
       "    }\n",
       "\n",
       "    .dataframe tbody tr th {\n",
       "        vertical-align: top;\n",
       "    }\n",
       "\n",
       "    .dataframe thead th {\n",
       "        text-align: right;\n",
       "    }\n",
       "</style>\n",
       "<table border=\"1\" class=\"dataframe\">\n",
       "  <thead>\n",
       "    <tr style=\"text-align: right;\">\n",
       "      <th></th>\n",
       "      <th>Title</th>\n",
       "      <th>Release Year</th>\n",
       "      <th>End Year</th>\n",
       "      <th>Rating</th>\n",
       "      <th>Cast</th>\n",
       "      <th>Runtime</th>\n",
       "      <th>Genre</th>\n",
       "    </tr>\n",
       "  </thead>\n",
       "  <tbody>\n",
       "    <tr>\n",
       "      <th>0</th>\n",
       "      <td>Wednesday</td>\n",
       "      <td>2022.0</td>\n",
       "      <td>NaN</td>\n",
       "      <td>8.2</td>\n",
       "      <td>Jenna Ortega, Hunter Doohan, Percy Hynes White...</td>\n",
       "      <td>45 min</td>\n",
       "      <td>Comedy, Crime, Fantasy</td>\n",
       "    </tr>\n",
       "    <tr>\n",
       "      <th>1</th>\n",
       "      <td>Yellowstone</td>\n",
       "      <td>2018.0</td>\n",
       "      <td>NaN</td>\n",
       "      <td>8.7</td>\n",
       "      <td>Kevin Costner, Luke Grimes, Kelly Reilly, Wes ...</td>\n",
       "      <td>60 min</td>\n",
       "      <td>Drama, Western</td>\n",
       "    </tr>\n",
       "    <tr>\n",
       "      <th>2</th>\n",
       "      <td>The White Lotus</td>\n",
       "      <td>2021.0</td>\n",
       "      <td>2023.0</td>\n",
       "      <td>7.9</td>\n",
       "      <td>Jennifer Coolidge, Jon Gries, F. Murray Abraha...</td>\n",
       "      <td>60 min</td>\n",
       "      <td>Comedy, Drama</td>\n",
       "    </tr>\n",
       "    <tr>\n",
       "      <th>3</th>\n",
       "      <td>1923</td>\n",
       "      <td>2022.0</td>\n",
       "      <td>2023.0</td>\n",
       "      <td>8.6</td>\n",
       "      <td>Harrison Ford, Helen Mirren, Brandon Sklenar, ...</td>\n",
       "      <td>60 min</td>\n",
       "      <td>Drama, Western</td>\n",
       "    </tr>\n",
       "    <tr>\n",
       "      <th>4</th>\n",
       "      <td>Jack Ryan</td>\n",
       "      <td>2018.0</td>\n",
       "      <td>NaN</td>\n",
       "      <td>8</td>\n",
       "      <td>John Krasinski, Wendell Pierce, Michael Kelly,...</td>\n",
       "      <td>60 min</td>\n",
       "      <td>Action, Drama, Thriller</td>\n",
       "    </tr>\n",
       "  </tbody>\n",
       "</table>\n",
       "</div>"
      ],
      "text/plain": [
       "             Title  Release Year  End Year Rating  \\\n",
       "0        Wednesday        2022.0       NaN    8.2   \n",
       "1      Yellowstone        2018.0       NaN    8.7   \n",
       "2  The White Lotus        2021.0    2023.0    7.9   \n",
       "3             1923        2022.0    2023.0    8.6   \n",
       "4        Jack Ryan        2018.0       NaN      8   \n",
       "\n",
       "                                                Cast Runtime  \\\n",
       "0  Jenna Ortega, Hunter Doohan, Percy Hynes White...  45 min   \n",
       "1  Kevin Costner, Luke Grimes, Kelly Reilly, Wes ...  60 min   \n",
       "2  Jennifer Coolidge, Jon Gries, F. Murray Abraha...  60 min   \n",
       "3  Harrison Ford, Helen Mirren, Brandon Sklenar, ...  60 min   \n",
       "4  John Krasinski, Wendell Pierce, Michael Kelly,...  60 min   \n",
       "\n",
       "                     Genre  \n",
       "0   Comedy, Crime, Fantasy  \n",
       "1           Drama, Western  \n",
       "2            Comedy, Drama  \n",
       "3           Drama, Western  \n",
       "4  Action, Drama, Thriller  "
      ]
     },
     "execution_count": 7,
     "metadata": {},
     "output_type": "execute_result"
    }
   ],
   "source": [
    "# First 5 rows of our DataFrame\n",
    "imdb.head()"
   ]
  },
  {
   "cell_type": "markdown",
   "id": "868703ab",
   "metadata": {},
   "source": [
    "We can also obtain the dimensions of our DataFrame using `shape`."
   ]
  },
  {
   "cell_type": "code",
   "execution_count": 8,
   "id": "88fc866d",
   "metadata": {},
   "outputs": [
    {
     "data": {
      "text/plain": [
       "(50000, 7)"
      ]
     },
     "execution_count": 8,
     "metadata": {},
     "output_type": "execute_result"
    }
   ],
   "source": [
    "# Dimensions of our DataFrame\n",
    "imdb.shape"
   ]
  },
  {
   "cell_type": "markdown",
   "id": "ea01a81a",
   "metadata": {},
   "source": [
    "<div class=\"alert alert-block alert-warning\">\n",
    "    <b>Note:</b> While <code>head()</code> is a method (i.e. a function associated with a Pandas DataFrame), <code>shape</code> is an attribute. This is why we do not use parentheses.\n",
    "</div>"
   ]
  },
  {
   "cell_type": "markdown",
   "id": "04c8dced",
   "metadata": {},
   "source": [
    "We can also access the full list of column names of our DataFrame using `columns`."
   ]
  },
  {
   "cell_type": "code",
   "execution_count": 9,
   "id": "1e64be01",
   "metadata": {},
   "outputs": [
    {
     "data": {
      "text/plain": [
       "Index(['Title', 'Release Year', 'End Year', 'Rating', 'Cast', 'Runtime',\n",
       "       'Genre'],\n",
       "      dtype='object')"
      ]
     },
     "execution_count": 9,
     "metadata": {},
     "output_type": "execute_result"
    }
   ],
   "source": [
    "# Columns of our DataFrame\n",
    "imdb.columns"
   ]
  },
  {
   "cell_type": "markdown",
   "id": "f5d5e0e6",
   "metadata": {},
   "source": [
    "To generate descriptive statistics of our DataFrame, we can use the `describe()` function."
   ]
  },
  {
   "cell_type": "code",
   "execution_count": 10,
   "id": "31d9e07d",
   "metadata": {},
   "outputs": [
    {
     "data": {
      "text/html": [
       "<div>\n",
       "<style scoped>\n",
       "    .dataframe tbody tr th:only-of-type {\n",
       "        vertical-align: middle;\n",
       "    }\n",
       "\n",
       "    .dataframe tbody tr th {\n",
       "        vertical-align: top;\n",
       "    }\n",
       "\n",
       "    .dataframe thead th {\n",
       "        text-align: right;\n",
       "    }\n",
       "</style>\n",
       "<table border=\"1\" class=\"dataframe\">\n",
       "  <thead>\n",
       "    <tr style=\"text-align: right;\">\n",
       "      <th></th>\n",
       "      <th>Release Year</th>\n",
       "      <th>End Year</th>\n",
       "    </tr>\n",
       "  </thead>\n",
       "  <tbody>\n",
       "    <tr>\n",
       "      <th>count</th>\n",
       "      <td>49791.000000</td>\n",
       "      <td>17410.000000</td>\n",
       "    </tr>\n",
       "    <tr>\n",
       "      <th>mean</th>\n",
       "      <td>2014.403587</td>\n",
       "      <td>2012.677771</td>\n",
       "    </tr>\n",
       "    <tr>\n",
       "      <th>std</th>\n",
       "      <td>12.131611</td>\n",
       "      <td>15.465337</td>\n",
       "    </tr>\n",
       "    <tr>\n",
       "      <th>min</th>\n",
       "      <td>1930.000000</td>\n",
       "      <td>1953.000000</td>\n",
       "    </tr>\n",
       "    <tr>\n",
       "      <th>25%</th>\n",
       "      <td>2011.000000</td>\n",
       "      <td>2008.000000</td>\n",
       "    </tr>\n",
       "    <tr>\n",
       "      <th>50%</th>\n",
       "      <td>2020.000000</td>\n",
       "      <td>2020.000000</td>\n",
       "    </tr>\n",
       "    <tr>\n",
       "      <th>75%</th>\n",
       "      <td>2022.000000</td>\n",
       "      <td>2022.000000</td>\n",
       "    </tr>\n",
       "    <tr>\n",
       "      <th>max</th>\n",
       "      <td>2024.000000</td>\n",
       "      <td>2023.000000</td>\n",
       "    </tr>\n",
       "  </tbody>\n",
       "</table>\n",
       "</div>"
      ],
      "text/plain": [
       "       Release Year      End Year\n",
       "count  49791.000000  17410.000000\n",
       "mean    2014.403587   2012.677771\n",
       "std       12.131611     15.465337\n",
       "min     1930.000000   1953.000000\n",
       "25%     2011.000000   2008.000000\n",
       "50%     2020.000000   2020.000000\n",
       "75%     2022.000000   2022.000000\n",
       "max     2024.000000   2023.000000"
      ]
     },
     "execution_count": 10,
     "metadata": {},
     "output_type": "execute_result"
    }
   ],
   "source": [
    "# Descriptive statistics of our DataFrame\n",
    "imdb.describe()"
   ]
  },
  {
   "cell_type": "markdown",
   "id": "e28d3eab",
   "metadata": {},
   "source": [
    "Notice that `describe()`, by default, only gives us information about the release and end years."
   ]
  },
  {
   "cell_type": "markdown",
   "id": "f56705db",
   "metadata": {},
   "source": [
    "The `info()` function prints a summary  of the DataFrame including the columns' data types (Dtype) and a Non-Null count."
   ]
  },
  {
   "cell_type": "code",
   "execution_count": 11,
   "id": "a3466e82",
   "metadata": {},
   "outputs": [
    {
     "name": "stdout",
     "output_type": "stream",
     "text": [
      "<class 'pandas.core.frame.DataFrame'>\n",
      "RangeIndex: 50000 entries, 0 to 49999\n",
      "Data columns (total 7 columns):\n",
      " #   Column        Non-Null Count  Dtype  \n",
      "---  ------        --------------  -----  \n",
      " 0   Title         50000 non-null  object \n",
      " 1   Release Year  49791 non-null  float64\n",
      " 2   End Year      17410 non-null  float64\n",
      " 3   Rating        50000 non-null  object \n",
      " 4   Cast          49909 non-null  object \n",
      " 5   Runtime       50000 non-null  object \n",
      " 6   Genre         50000 non-null  object \n",
      "dtypes: float64(2), object(5)\n",
      "memory usage: 2.7+ MB\n"
     ]
    }
   ],
   "source": [
    "# Summary of our DataFrame\n",
    "imdb.info()"
   ]
  },
  {
   "cell_type": "markdown",
   "id": "e4609fa1",
   "metadata": {},
   "source": [
    "We can see from this output that there are some missing values in our Release Year, End Year and Cast columns. We will deal with this later.\n",
    "\n",
    "Some of the Pandas data types you may encounter are:\n",
    "\n",
    "| Pandas dtype |                     Usage                    |\n",
    "|:------------:|:--------------------------------------------:|\n",
    "|    object    | Text or mixed numeric and non-numeric values |\n",
    "|     int64    |                Integer numbers               |\n",
    "|    float64   |            Floating point numbers            |\n",
    "|     bool     |               True/False values              |"
   ]
  },
  {
   "cell_type": "markdown",
   "id": "f4735542",
   "metadata": {},
   "source": [
    "<div class=\"alert alert-block alert-success\">\n",
    "    <b>Hands-on:</b> Explore the <code>happiness2019</code> data set using <code>head()</code>, <code>describe()</code>, <code>info()</code>, <code>shape</code> and <code>columns</code>.\n",
    "</div>"
   ]
  },
  {
   "cell_type": "code",
   "execution_count": null,
   "id": "4f4006ae",
   "metadata": {},
   "outputs": [],
   "source": [
    "# Print the first 5 rows"
   ]
  },
  {
   "cell_type": "code",
   "execution_count": null,
   "id": "d893a087",
   "metadata": {},
   "outputs": [],
   "source": [
    "# Print descriptive statistics"
   ]
  },
  {
   "cell_type": "code",
   "execution_count": null,
   "id": "10e4a7bf",
   "metadata": {},
   "outputs": [],
   "source": [
    "# Print a summary of your data with info()"
   ]
  },
  {
   "cell_type": "code",
   "execution_count": null,
   "id": "b044d914",
   "metadata": {},
   "outputs": [],
   "source": [
    "# Print the dimensions of your dataset"
   ]
  },
  {
   "cell_type": "code",
   "execution_count": null,
   "id": "83b9cebb",
   "metadata": {},
   "outputs": [],
   "source": [
    "# Print the column names"
   ]
  },
  {
   "cell_type": "markdown",
   "id": "2a21bf31",
   "metadata": {},
   "source": [
    "These functions give us general information about our data. However, we can also explore subsets of our data."
   ]
  },
  {
   "cell_type": "markdown",
   "id": "052411a2",
   "metadata": {},
   "source": [
    "### Subsetting your DataFrame\n",
    "\n",
    "We can select columns of the DataFrame using the column name"
   ]
  },
  {
   "cell_type": "code",
   "execution_count": 12,
   "id": "37893b8a",
   "metadata": {},
   "outputs": [
    {
     "data": {
      "text/plain": [
       "0                                        Wednesday\n",
       "1                                      Yellowstone\n",
       "2                                  The White Lotus\n",
       "3                                             1923\n",
       "4                                        Jack Ryan\n",
       "                           ...                    \n",
       "49995            Law & Order: Special Victims Unit\n",
       "49996                                   Doctor Who\n",
       "49997    The Lord of the Rings: The Rings of Power\n",
       "49998                                     The Bear\n",
       "49999                                 Supernatural\n",
       "Name: Title, Length: 50000, dtype: object"
      ]
     },
     "execution_count": 12,
     "metadata": {},
     "output_type": "execute_result"
    }
   ],
   "source": [
    "# Select the titles\n",
    "imdb[\"Title\"]"
   ]
  },
  {
   "cell_type": "markdown",
   "id": "e5dd7202",
   "metadata": {},
   "source": [
    "<div class=\"alert alert-block alert-warning\">\n",
    "<b>Note:</b> Each column in a DataFrame is a Pandas Series. We can think of a DataFrame as a dictionary of Pandas Series.\n",
    "</div>"
   ]
  },
  {
   "cell_type": "markdown",
   "id": "0de69286",
   "metadata": {},
   "source": [
    "If we do not want all the rows we can use the `head()` function at the end. We can also select multiple columns by using a list of column names."
   ]
  },
  {
   "cell_type": "code",
   "execution_count": 13,
   "id": "8b1b5df4",
   "metadata": {},
   "outputs": [
    {
     "data": {
      "text/html": [
       "<div>\n",
       "<style scoped>\n",
       "    .dataframe tbody tr th:only-of-type {\n",
       "        vertical-align: middle;\n",
       "    }\n",
       "\n",
       "    .dataframe tbody tr th {\n",
       "        vertical-align: top;\n",
       "    }\n",
       "\n",
       "    .dataframe thead th {\n",
       "        text-align: right;\n",
       "    }\n",
       "</style>\n",
       "<table border=\"1\" class=\"dataframe\">\n",
       "  <thead>\n",
       "    <tr style=\"text-align: right;\">\n",
       "      <th></th>\n",
       "      <th>Title</th>\n",
       "      <th>Release Year</th>\n",
       "      <th>Rating</th>\n",
       "    </tr>\n",
       "  </thead>\n",
       "  <tbody>\n",
       "    <tr>\n",
       "      <th>0</th>\n",
       "      <td>Wednesday</td>\n",
       "      <td>2022.0</td>\n",
       "      <td>8.2</td>\n",
       "    </tr>\n",
       "    <tr>\n",
       "      <th>1</th>\n",
       "      <td>Yellowstone</td>\n",
       "      <td>2018.0</td>\n",
       "      <td>8.7</td>\n",
       "    </tr>\n",
       "    <tr>\n",
       "      <th>2</th>\n",
       "      <td>The White Lotus</td>\n",
       "      <td>2021.0</td>\n",
       "      <td>7.9</td>\n",
       "    </tr>\n",
       "    <tr>\n",
       "      <th>3</th>\n",
       "      <td>1923</td>\n",
       "      <td>2022.0</td>\n",
       "      <td>8.6</td>\n",
       "    </tr>\n",
       "    <tr>\n",
       "      <th>4</th>\n",
       "      <td>Jack Ryan</td>\n",
       "      <td>2018.0</td>\n",
       "      <td>8</td>\n",
       "    </tr>\n",
       "  </tbody>\n",
       "</table>\n",
       "</div>"
      ],
      "text/plain": [
       "             Title  Release Year Rating\n",
       "0        Wednesday        2022.0    8.2\n",
       "1      Yellowstone        2018.0    8.7\n",
       "2  The White Lotus        2021.0    7.9\n",
       "3             1923        2022.0    8.6\n",
       "4        Jack Ryan        2018.0      8"
      ]
     },
     "execution_count": 13,
     "metadata": {},
     "output_type": "execute_result"
    }
   ],
   "source": [
    "# Select multiple columns\n",
    "imdb[[\"Title\", \"Release Year\", \"Rating\"]].head()"
   ]
  },
  {
   "cell_type": "markdown",
   "id": "96e3cb74",
   "metadata": {},
   "source": [
    "Sometimes, it is useful to store the list of columns we want to access on a separate variable."
   ]
  },
  {
   "cell_type": "code",
   "execution_count": 14,
   "id": "9fbdcbbf",
   "metadata": {},
   "outputs": [
    {
     "data": {
      "text/html": [
       "<div>\n",
       "<style scoped>\n",
       "    .dataframe tbody tr th:only-of-type {\n",
       "        vertical-align: middle;\n",
       "    }\n",
       "\n",
       "    .dataframe tbody tr th {\n",
       "        vertical-align: top;\n",
       "    }\n",
       "\n",
       "    .dataframe thead th {\n",
       "        text-align: right;\n",
       "    }\n",
       "</style>\n",
       "<table border=\"1\" class=\"dataframe\">\n",
       "  <thead>\n",
       "    <tr style=\"text-align: right;\">\n",
       "      <th></th>\n",
       "      <th>Title</th>\n",
       "      <th>Release Year</th>\n",
       "      <th>Rating</th>\n",
       "    </tr>\n",
       "  </thead>\n",
       "  <tbody>\n",
       "    <tr>\n",
       "      <th>0</th>\n",
       "      <td>Wednesday</td>\n",
       "      <td>2022.0</td>\n",
       "      <td>8.2</td>\n",
       "    </tr>\n",
       "    <tr>\n",
       "      <th>1</th>\n",
       "      <td>Yellowstone</td>\n",
       "      <td>2018.0</td>\n",
       "      <td>8.7</td>\n",
       "    </tr>\n",
       "    <tr>\n",
       "      <th>2</th>\n",
       "      <td>The White Lotus</td>\n",
       "      <td>2021.0</td>\n",
       "      <td>7.9</td>\n",
       "    </tr>\n",
       "    <tr>\n",
       "      <th>3</th>\n",
       "      <td>1923</td>\n",
       "      <td>2022.0</td>\n",
       "      <td>8.6</td>\n",
       "    </tr>\n",
       "    <tr>\n",
       "      <th>4</th>\n",
       "      <td>Jack Ryan</td>\n",
       "      <td>2018.0</td>\n",
       "      <td>8</td>\n",
       "    </tr>\n",
       "  </tbody>\n",
       "</table>\n",
       "</div>"
      ],
      "text/plain": [
       "             Title  Release Year Rating\n",
       "0        Wednesday        2022.0    8.2\n",
       "1      Yellowstone        2018.0    8.7\n",
       "2  The White Lotus        2021.0    7.9\n",
       "3             1923        2022.0    8.6\n",
       "4        Jack Ryan        2018.0      8"
      ]
     },
     "execution_count": 14,
     "metadata": {},
     "output_type": "execute_result"
    }
   ],
   "source": [
    "# Select multiple columns\n",
    "cols = [\"Title\", \"Release Year\", \"Rating\"]\n",
    "imdb[cols].head()"
   ]
  },
  {
   "cell_type": "markdown",
   "id": "d59e5308",
   "metadata": {},
   "source": [
    "We can also select rows of our DataFrame based on a condition. Using comparison operators on a column returns a column of the same length with boolean values."
   ]
  },
  {
   "cell_type": "code",
   "execution_count": 15,
   "id": "bc82cca3",
   "metadata": {},
   "outputs": [
    {
     "data": {
      "text/plain": [
       "0         True\n",
       "1         True\n",
       "2         True\n",
       "3         True\n",
       "4         True\n",
       "         ...  \n",
       "49995    False\n",
       "49996    False\n",
       "49997     True\n",
       "49998     True\n",
       "49999    False\n",
       "Name: Release Year, Length: 50000, dtype: bool"
      ]
     },
     "execution_count": 15,
     "metadata": {},
     "output_type": "execute_result"
    }
   ],
   "source": [
    "# Condition on Release Year\n",
    "imdb[\"Release Year\"] > 2010"
   ]
  },
  {
   "cell_type": "markdown",
   "id": "a873a8b4",
   "metadata": {},
   "source": [
    "<div class=\"alert alert-block alert-warning\">\n",
    "    <b>Note:</b> Comparisons with missing values, encoded as <code>NaN</code>, will return <code>False</code>.\n",
    "</div>"
   ]
  },
  {
   "cell_type": "markdown",
   "id": "4d8206cf",
   "metadata": {},
   "source": [
    "We can use this to select only the rows of those TV shows that were released after 2010."
   ]
  },
  {
   "cell_type": "code",
   "execution_count": 16,
   "id": "498a0bcd",
   "metadata": {},
   "outputs": [
    {
     "data": {
      "text/html": [
       "<div>\n",
       "<style scoped>\n",
       "    .dataframe tbody tr th:only-of-type {\n",
       "        vertical-align: middle;\n",
       "    }\n",
       "\n",
       "    .dataframe tbody tr th {\n",
       "        vertical-align: top;\n",
       "    }\n",
       "\n",
       "    .dataframe thead th {\n",
       "        text-align: right;\n",
       "    }\n",
       "</style>\n",
       "<table border=\"1\" class=\"dataframe\">\n",
       "  <thead>\n",
       "    <tr style=\"text-align: right;\">\n",
       "      <th></th>\n",
       "      <th>Title</th>\n",
       "      <th>Release Year</th>\n",
       "      <th>End Year</th>\n",
       "      <th>Rating</th>\n",
       "      <th>Cast</th>\n",
       "      <th>Runtime</th>\n",
       "      <th>Genre</th>\n",
       "    </tr>\n",
       "  </thead>\n",
       "  <tbody>\n",
       "    <tr>\n",
       "      <th>0</th>\n",
       "      <td>Wednesday</td>\n",
       "      <td>2022.0</td>\n",
       "      <td>NaN</td>\n",
       "      <td>8.2</td>\n",
       "      <td>Jenna Ortega, Hunter Doohan, Percy Hynes White...</td>\n",
       "      <td>45 min</td>\n",
       "      <td>Comedy, Crime, Fantasy</td>\n",
       "    </tr>\n",
       "    <tr>\n",
       "      <th>1</th>\n",
       "      <td>Yellowstone</td>\n",
       "      <td>2018.0</td>\n",
       "      <td>NaN</td>\n",
       "      <td>8.7</td>\n",
       "      <td>Kevin Costner, Luke Grimes, Kelly Reilly, Wes ...</td>\n",
       "      <td>60 min</td>\n",
       "      <td>Drama, Western</td>\n",
       "    </tr>\n",
       "    <tr>\n",
       "      <th>2</th>\n",
       "      <td>The White Lotus</td>\n",
       "      <td>2021.0</td>\n",
       "      <td>2023.0</td>\n",
       "      <td>7.9</td>\n",
       "      <td>Jennifer Coolidge, Jon Gries, F. Murray Abraha...</td>\n",
       "      <td>60 min</td>\n",
       "      <td>Comedy, Drama</td>\n",
       "    </tr>\n",
       "    <tr>\n",
       "      <th>3</th>\n",
       "      <td>1923</td>\n",
       "      <td>2022.0</td>\n",
       "      <td>2023.0</td>\n",
       "      <td>8.6</td>\n",
       "      <td>Harrison Ford, Helen Mirren, Brandon Sklenar, ...</td>\n",
       "      <td>60 min</td>\n",
       "      <td>Drama, Western</td>\n",
       "    </tr>\n",
       "    <tr>\n",
       "      <th>4</th>\n",
       "      <td>Jack Ryan</td>\n",
       "      <td>2018.0</td>\n",
       "      <td>NaN</td>\n",
       "      <td>8</td>\n",
       "      <td>John Krasinski, Wendell Pierce, Michael Kelly,...</td>\n",
       "      <td>60 min</td>\n",
       "      <td>Action, Drama, Thriller</td>\n",
       "    </tr>\n",
       "  </tbody>\n",
       "</table>\n",
       "</div>"
      ],
      "text/plain": [
       "             Title  Release Year  End Year Rating  \\\n",
       "0        Wednesday        2022.0       NaN    8.2   \n",
       "1      Yellowstone        2018.0       NaN    8.7   \n",
       "2  The White Lotus        2021.0    2023.0    7.9   \n",
       "3             1923        2022.0    2023.0    8.6   \n",
       "4        Jack Ryan        2018.0       NaN      8   \n",
       "\n",
       "                                                Cast Runtime  \\\n",
       "0  Jenna Ortega, Hunter Doohan, Percy Hynes White...  45 min   \n",
       "1  Kevin Costner, Luke Grimes, Kelly Reilly, Wes ...  60 min   \n",
       "2  Jennifer Coolidge, Jon Gries, F. Murray Abraha...  60 min   \n",
       "3  Harrison Ford, Helen Mirren, Brandon Sklenar, ...  60 min   \n",
       "4  John Krasinski, Wendell Pierce, Michael Kelly,...  60 min   \n",
       "\n",
       "                     Genre  \n",
       "0   Comedy, Crime, Fantasy  \n",
       "1           Drama, Western  \n",
       "2            Comedy, Drama  \n",
       "3           Drama, Western  \n",
       "4  Action, Drama, Thriller  "
      ]
     },
     "execution_count": 16,
     "metadata": {},
     "output_type": "execute_result"
    }
   ],
   "source": [
    "# TV shows released after 2010\n",
    "imdb[imdb[\"Release Year\"] > 2010].head()"
   ]
  },
  {
   "cell_type": "markdown",
   "id": "4321fd9e",
   "metadata": {},
   "source": [
    "If instead we wanted to retrieve the TV shows that were released between two years, we can use multiple conditions."
   ]
  },
  {
   "cell_type": "code",
   "execution_count": 17,
   "id": "b7dcb0d9",
   "metadata": {},
   "outputs": [
    {
     "data": {
      "text/html": [
       "<div>\n",
       "<style scoped>\n",
       "    .dataframe tbody tr th:only-of-type {\n",
       "        vertical-align: middle;\n",
       "    }\n",
       "\n",
       "    .dataframe tbody tr th {\n",
       "        vertical-align: top;\n",
       "    }\n",
       "\n",
       "    .dataframe thead th {\n",
       "        text-align: right;\n",
       "    }\n",
       "</style>\n",
       "<table border=\"1\" class=\"dataframe\">\n",
       "  <thead>\n",
       "    <tr style=\"text-align: right;\">\n",
       "      <th></th>\n",
       "      <th>Title</th>\n",
       "      <th>Release Year</th>\n",
       "      <th>End Year</th>\n",
       "      <th>Rating</th>\n",
       "      <th>Cast</th>\n",
       "      <th>Runtime</th>\n",
       "      <th>Genre</th>\n",
       "    </tr>\n",
       "  </thead>\n",
       "  <tbody>\n",
       "    <tr>\n",
       "      <th>12</th>\n",
       "      <td>Game of Thrones</td>\n",
       "      <td>2011.0</td>\n",
       "      <td>2019.0</td>\n",
       "      <td>9.2</td>\n",
       "      <td>Emilia Clarke, Peter Dinklage, Kit Harington, ...</td>\n",
       "      <td>57 min</td>\n",
       "      <td>Action, Adventure, Drama</td>\n",
       "    </tr>\n",
       "    <tr>\n",
       "      <th>20</th>\n",
       "      <td>Happy Valley</td>\n",
       "      <td>2014.0</td>\n",
       "      <td>2023.0</td>\n",
       "      <td>8.5</td>\n",
       "      <td>Sarah Lancashire, Siobhan Finneran, Charlie Mu...</td>\n",
       "      <td>58 min</td>\n",
       "      <td>Crime, Drama, Thriller</td>\n",
       "    </tr>\n",
       "    <tr>\n",
       "      <th>43</th>\n",
       "      <td>Peaky Blinders</td>\n",
       "      <td>2013.0</td>\n",
       "      <td>2022.0</td>\n",
       "      <td>8.8</td>\n",
       "      <td>Cillian Murphy, Paul Anderson, Sophie Rundle, ...</td>\n",
       "      <td>60 min</td>\n",
       "      <td>Crime, Drama</td>\n",
       "    </tr>\n",
       "    <tr>\n",
       "      <th>57</th>\n",
       "      <td>Rick and Morty</td>\n",
       "      <td>2013.0</td>\n",
       "      <td>NaN</td>\n",
       "      <td>9.1</td>\n",
       "      <td>Justin Roiland, Chris Parnell, Spencer Grammer...</td>\n",
       "      <td>23 min</td>\n",
       "      <td>Animation, Adventure, Comedy</td>\n",
       "    </tr>\n",
       "    <tr>\n",
       "      <th>61</th>\n",
       "      <td>American Horror Story</td>\n",
       "      <td>2011.0</td>\n",
       "      <td>NaN</td>\n",
       "      <td>8</td>\n",
       "      <td>Lady Gaga, Kathy Bates, Angela Bassett, Sarah ...</td>\n",
       "      <td>60 min</td>\n",
       "      <td>Drama, Horror, Sci-Fi</td>\n",
       "    </tr>\n",
       "  </tbody>\n",
       "</table>\n",
       "</div>"
      ],
      "text/plain": [
       "                    Title  Release Year  End Year Rating  \\\n",
       "12        Game of Thrones        2011.0    2019.0    9.2   \n",
       "20           Happy Valley        2014.0    2023.0    8.5   \n",
       "43         Peaky Blinders        2013.0    2022.0    8.8   \n",
       "57         Rick and Morty        2013.0       NaN    9.1   \n",
       "61  American Horror Story        2011.0       NaN      8   \n",
       "\n",
       "                                                 Cast Runtime  \\\n",
       "12  Emilia Clarke, Peter Dinklage, Kit Harington, ...  57 min   \n",
       "20  Sarah Lancashire, Siobhan Finneran, Charlie Mu...  58 min   \n",
       "43  Cillian Murphy, Paul Anderson, Sophie Rundle, ...  60 min   \n",
       "57  Justin Roiland, Chris Parnell, Spencer Grammer...  23 min   \n",
       "61  Lady Gaga, Kathy Bates, Angela Bassett, Sarah ...  60 min   \n",
       "\n",
       "                           Genre  \n",
       "12      Action, Adventure, Drama  \n",
       "20        Crime, Drama, Thriller  \n",
       "43                  Crime, Drama  \n",
       "57  Animation, Adventure, Comedy  \n",
       "61         Drama, Horror, Sci-Fi  "
      ]
     },
     "execution_count": 17,
     "metadata": {},
     "output_type": "execute_result"
    }
   ],
   "source": [
    "# Use multiple conditions\n",
    "after_2010 = imdb[\"Release Year\"] > 2010\n",
    "before_2015 = imdb[\"Release Year\"] < 2015\n",
    "imdb[after_2010 & before_2015].head()"
   ]
  },
  {
   "cell_type": "code",
   "execution_count": 18,
   "id": "20cf3c6d",
   "metadata": {},
   "outputs": [
    {
     "data": {
      "text/html": [
       "<div>\n",
       "<style scoped>\n",
       "    .dataframe tbody tr th:only-of-type {\n",
       "        vertical-align: middle;\n",
       "    }\n",
       "\n",
       "    .dataframe tbody tr th {\n",
       "        vertical-align: top;\n",
       "    }\n",
       "\n",
       "    .dataframe thead th {\n",
       "        text-align: right;\n",
       "    }\n",
       "</style>\n",
       "<table border=\"1\" class=\"dataframe\">\n",
       "  <thead>\n",
       "    <tr style=\"text-align: right;\">\n",
       "      <th></th>\n",
       "      <th>Title</th>\n",
       "      <th>Release Year</th>\n",
       "      <th>End Year</th>\n",
       "      <th>Rating</th>\n",
       "      <th>Cast</th>\n",
       "      <th>Runtime</th>\n",
       "      <th>Genre</th>\n",
       "    </tr>\n",
       "  </thead>\n",
       "  <tbody>\n",
       "    <tr>\n",
       "      <th>12</th>\n",
       "      <td>Game of Thrones</td>\n",
       "      <td>2011.0</td>\n",
       "      <td>2019.0</td>\n",
       "      <td>9.2</td>\n",
       "      <td>Emilia Clarke, Peter Dinklage, Kit Harington, ...</td>\n",
       "      <td>57 min</td>\n",
       "      <td>Action, Adventure, Drama</td>\n",
       "    </tr>\n",
       "    <tr>\n",
       "      <th>20</th>\n",
       "      <td>Happy Valley</td>\n",
       "      <td>2014.0</td>\n",
       "      <td>2023.0</td>\n",
       "      <td>8.5</td>\n",
       "      <td>Sarah Lancashire, Siobhan Finneran, Charlie Mu...</td>\n",
       "      <td>58 min</td>\n",
       "      <td>Crime, Drama, Thriller</td>\n",
       "    </tr>\n",
       "    <tr>\n",
       "      <th>43</th>\n",
       "      <td>Peaky Blinders</td>\n",
       "      <td>2013.0</td>\n",
       "      <td>2022.0</td>\n",
       "      <td>8.8</td>\n",
       "      <td>Cillian Murphy, Paul Anderson, Sophie Rundle, ...</td>\n",
       "      <td>60 min</td>\n",
       "      <td>Crime, Drama</td>\n",
       "    </tr>\n",
       "    <tr>\n",
       "      <th>57</th>\n",
       "      <td>Rick and Morty</td>\n",
       "      <td>2013.0</td>\n",
       "      <td>NaN</td>\n",
       "      <td>9.1</td>\n",
       "      <td>Justin Roiland, Chris Parnell, Spencer Grammer...</td>\n",
       "      <td>23 min</td>\n",
       "      <td>Animation, Adventure, Comedy</td>\n",
       "    </tr>\n",
       "    <tr>\n",
       "      <th>61</th>\n",
       "      <td>American Horror Story</td>\n",
       "      <td>2011.0</td>\n",
       "      <td>NaN</td>\n",
       "      <td>8</td>\n",
       "      <td>Lady Gaga, Kathy Bates, Angela Bassett, Sarah ...</td>\n",
       "      <td>60 min</td>\n",
       "      <td>Drama, Horror, Sci-Fi</td>\n",
       "    </tr>\n",
       "  </tbody>\n",
       "</table>\n",
       "</div>"
      ],
      "text/plain": [
       "                    Title  Release Year  End Year Rating  \\\n",
       "12        Game of Thrones        2011.0    2019.0    9.2   \n",
       "20           Happy Valley        2014.0    2023.0    8.5   \n",
       "43         Peaky Blinders        2013.0    2022.0    8.8   \n",
       "57         Rick and Morty        2013.0       NaN    9.1   \n",
       "61  American Horror Story        2011.0       NaN      8   \n",
       "\n",
       "                                                 Cast Runtime  \\\n",
       "12  Emilia Clarke, Peter Dinklage, Kit Harington, ...  57 min   \n",
       "20  Sarah Lancashire, Siobhan Finneran, Charlie Mu...  58 min   \n",
       "43  Cillian Murphy, Paul Anderson, Sophie Rundle, ...  60 min   \n",
       "57  Justin Roiland, Chris Parnell, Spencer Grammer...  23 min   \n",
       "61  Lady Gaga, Kathy Bates, Angela Bassett, Sarah ...  60 min   \n",
       "\n",
       "                           Genre  \n",
       "12      Action, Adventure, Drama  \n",
       "20        Crime, Drama, Thriller  \n",
       "43                  Crime, Drama  \n",
       "57  Animation, Adventure, Comedy  \n",
       "61         Drama, Horror, Sci-Fi  "
      ]
     },
     "execution_count": 18,
     "metadata": {},
     "output_type": "execute_result"
    }
   ],
   "source": [
    "# Alternative syntax\n",
    "imdb[(imdb[\"Release Year\"] > 2010) & \n",
    "     (imdb[\"Release Year\"] < 2015)].head()"
   ]
  },
  {
   "cell_type": "markdown",
   "id": "bd763afd",
   "metadata": {},
   "source": [
    "The conditional operators in Pandas are:\n",
    "\n",
    "| Operator | Pandas |\n",
    "|:--------:|:------:|\n",
    "|    and   |    &   |\n",
    "|    or    |   \\|   |\n",
    "|   not    | ~      |"
   ]
  },
  {
   "cell_type": "markdown",
   "id": "ea5cc8fc",
   "metadata": {},
   "source": [
    "To select rows based on text data, we can use the `==` operator."
   ]
  },
  {
   "cell_type": "code",
   "execution_count": 19,
   "id": "118c2a78",
   "metadata": {},
   "outputs": [
    {
     "data": {
      "text/html": [
       "<div>\n",
       "<style scoped>\n",
       "    .dataframe tbody tr th:only-of-type {\n",
       "        vertical-align: middle;\n",
       "    }\n",
       "\n",
       "    .dataframe tbody tr th {\n",
       "        vertical-align: top;\n",
       "    }\n",
       "\n",
       "    .dataframe thead th {\n",
       "        text-align: right;\n",
       "    }\n",
       "</style>\n",
       "<table border=\"1\" class=\"dataframe\">\n",
       "  <thead>\n",
       "    <tr style=\"text-align: right;\">\n",
       "      <th></th>\n",
       "      <th>Title</th>\n",
       "      <th>Release Year</th>\n",
       "      <th>End Year</th>\n",
       "      <th>Rating</th>\n",
       "      <th>Cast</th>\n",
       "      <th>Runtime</th>\n",
       "      <th>Genre</th>\n",
       "    </tr>\n",
       "  </thead>\n",
       "  <tbody>\n",
       "    <tr>\n",
       "      <th>79</th>\n",
       "      <td>Dark</td>\n",
       "      <td>2017.0</td>\n",
       "      <td>2020.0</td>\n",
       "      <td>8.7</td>\n",
       "      <td>Louis Hofmann, Karoline Eichhorn, Lisa Vicari,...</td>\n",
       "      <td>60 min</td>\n",
       "      <td>Crime, Drama, Mystery</td>\n",
       "    </tr>\n",
       "  </tbody>\n",
       "</table>\n",
       "</div>"
      ],
      "text/plain": [
       "   Title  Release Year  End Year Rating  \\\n",
       "79  Dark        2017.0    2020.0    8.7   \n",
       "\n",
       "                                                 Cast Runtime  \\\n",
       "79  Louis Hofmann, Karoline Eichhorn, Lisa Vicari,...  60 min   \n",
       "\n",
       "                    Genre  \n",
       "79  Crime, Drama, Mystery  "
      ]
     },
     "execution_count": 19,
     "metadata": {},
     "output_type": "execute_result"
    }
   ],
   "source": [
    "# Select the row for Dark\n",
    "imdb[imdb[\"Title\"] == \"Dark\"]"
   ]
  },
  {
   "cell_type": "markdown",
   "id": "0bae6910",
   "metadata": {},
   "source": [
    "If we are using the `==` operator, instead of using multiple conditions to check for equality, we can use the `isin()` function."
   ]
  },
  {
   "cell_type": "code",
   "execution_count": 20,
   "id": "5962d4a4",
   "metadata": {},
   "outputs": [
    {
     "data": {
      "text/html": [
       "<div>\n",
       "<style scoped>\n",
       "    .dataframe tbody tr th:only-of-type {\n",
       "        vertical-align: middle;\n",
       "    }\n",
       "\n",
       "    .dataframe tbody tr th {\n",
       "        vertical-align: top;\n",
       "    }\n",
       "\n",
       "    .dataframe thead th {\n",
       "        text-align: right;\n",
       "    }\n",
       "</style>\n",
       "<table border=\"1\" class=\"dataframe\">\n",
       "  <thead>\n",
       "    <tr style=\"text-align: right;\">\n",
       "      <th></th>\n",
       "      <th>Title</th>\n",
       "      <th>Release Year</th>\n",
       "      <th>End Year</th>\n",
       "      <th>Rating</th>\n",
       "      <th>Cast</th>\n",
       "      <th>Runtime</th>\n",
       "      <th>Genre</th>\n",
       "    </tr>\n",
       "  </thead>\n",
       "  <tbody>\n",
       "    <tr>\n",
       "      <th>54</th>\n",
       "      <td>The Big Bang Theory</td>\n",
       "      <td>2007.0</td>\n",
       "      <td>2019.0</td>\n",
       "      <td>8.2</td>\n",
       "      <td>Johnny Galecki, Jim Parsons, Kaley Cuoco, Simo...</td>\n",
       "      <td>22 min</td>\n",
       "      <td>Comedy, Romance</td>\n",
       "    </tr>\n",
       "    <tr>\n",
       "      <th>79</th>\n",
       "      <td>Dark</td>\n",
       "      <td>2017.0</td>\n",
       "      <td>2020.0</td>\n",
       "      <td>8.7</td>\n",
       "      <td>Louis Hofmann, Karoline Eichhorn, Lisa Vicari,...</td>\n",
       "      <td>60 min</td>\n",
       "      <td>Crime, Drama, Mystery</td>\n",
       "    </tr>\n",
       "  </tbody>\n",
       "</table>\n",
       "</div>"
      ],
      "text/plain": [
       "                  Title  Release Year  End Year Rating  \\\n",
       "54  The Big Bang Theory        2007.0    2019.0    8.2   \n",
       "79                 Dark        2017.0    2020.0    8.7   \n",
       "\n",
       "                                                 Cast Runtime  \\\n",
       "54  Johnny Galecki, Jim Parsons, Kaley Cuoco, Simo...  22 min   \n",
       "79  Louis Hofmann, Karoline Eichhorn, Lisa Vicari,...  60 min   \n",
       "\n",
       "                    Genre  \n",
       "54        Comedy, Romance  \n",
       "79  Crime, Drama, Mystery  "
      ]
     },
     "execution_count": 20,
     "metadata": {},
     "output_type": "execute_result"
    }
   ],
   "source": [
    "# Select multiple titles with conditions\n",
    "imdb[(imdb[\"Title\"] == \"Dark\") | \n",
    "     (imdb[\"Title\"] == \"The Big Bang Theory\")]"
   ]
  },
  {
   "cell_type": "code",
   "execution_count": 21,
   "id": "e78f95c3",
   "metadata": {},
   "outputs": [
    {
     "data": {
      "text/html": [
       "<div>\n",
       "<style scoped>\n",
       "    .dataframe tbody tr th:only-of-type {\n",
       "        vertical-align: middle;\n",
       "    }\n",
       "\n",
       "    .dataframe tbody tr th {\n",
       "        vertical-align: top;\n",
       "    }\n",
       "\n",
       "    .dataframe thead th {\n",
       "        text-align: right;\n",
       "    }\n",
       "</style>\n",
       "<table border=\"1\" class=\"dataframe\">\n",
       "  <thead>\n",
       "    <tr style=\"text-align: right;\">\n",
       "      <th></th>\n",
       "      <th>Title</th>\n",
       "      <th>Release Year</th>\n",
       "      <th>End Year</th>\n",
       "      <th>Rating</th>\n",
       "      <th>Cast</th>\n",
       "      <th>Runtime</th>\n",
       "      <th>Genre</th>\n",
       "    </tr>\n",
       "  </thead>\n",
       "  <tbody>\n",
       "    <tr>\n",
       "      <th>54</th>\n",
       "      <td>The Big Bang Theory</td>\n",
       "      <td>2007.0</td>\n",
       "      <td>2019.0</td>\n",
       "      <td>8.2</td>\n",
       "      <td>Johnny Galecki, Jim Parsons, Kaley Cuoco, Simo...</td>\n",
       "      <td>22 min</td>\n",
       "      <td>Comedy, Romance</td>\n",
       "    </tr>\n",
       "    <tr>\n",
       "      <th>79</th>\n",
       "      <td>Dark</td>\n",
       "      <td>2017.0</td>\n",
       "      <td>2020.0</td>\n",
       "      <td>8.7</td>\n",
       "      <td>Louis Hofmann, Karoline Eichhorn, Lisa Vicari,...</td>\n",
       "      <td>60 min</td>\n",
       "      <td>Crime, Drama, Mystery</td>\n",
       "    </tr>\n",
       "  </tbody>\n",
       "</table>\n",
       "</div>"
      ],
      "text/plain": [
       "                  Title  Release Year  End Year Rating  \\\n",
       "54  The Big Bang Theory        2007.0    2019.0    8.2   \n",
       "79                 Dark        2017.0    2020.0    8.7   \n",
       "\n",
       "                                                 Cast Runtime  \\\n",
       "54  Johnny Galecki, Jim Parsons, Kaley Cuoco, Simo...  22 min   \n",
       "79  Louis Hofmann, Karoline Eichhorn, Lisa Vicari,...  60 min   \n",
       "\n",
       "                    Genre  \n",
       "54        Comedy, Romance  \n",
       "79  Crime, Drama, Mystery  "
      ]
     },
     "execution_count": 21,
     "metadata": {},
     "output_type": "execute_result"
    }
   ],
   "source": [
    "# Select multiple titles with isin()\n",
    "imdb[imdb[\"Title\"].isin([\"Dark\", \"The Big Bang Theory\"])]"
   ]
  },
  {
   "cell_type": "markdown",
   "id": "5a79f345",
   "metadata": {},
   "source": [
    "This also works for any other data type, not just text."
   ]
  },
  {
   "cell_type": "code",
   "execution_count": 22,
   "id": "e2e6824f",
   "metadata": {},
   "outputs": [
    {
     "data": {
      "text/html": [
       "<div>\n",
       "<style scoped>\n",
       "    .dataframe tbody tr th:only-of-type {\n",
       "        vertical-align: middle;\n",
       "    }\n",
       "\n",
       "    .dataframe tbody tr th {\n",
       "        vertical-align: top;\n",
       "    }\n",
       "\n",
       "    .dataframe thead th {\n",
       "        text-align: right;\n",
       "    }\n",
       "</style>\n",
       "<table border=\"1\" class=\"dataframe\">\n",
       "  <thead>\n",
       "    <tr style=\"text-align: right;\">\n",
       "      <th></th>\n",
       "      <th>Title</th>\n",
       "      <th>Release Year</th>\n",
       "      <th>End Year</th>\n",
       "      <th>Rating</th>\n",
       "      <th>Cast</th>\n",
       "      <th>Runtime</th>\n",
       "      <th>Genre</th>\n",
       "    </tr>\n",
       "  </thead>\n",
       "  <tbody>\n",
       "    <tr>\n",
       "      <th>6</th>\n",
       "      <td>Alice in Borderland</td>\n",
       "      <td>2020.0</td>\n",
       "      <td>NaN</td>\n",
       "      <td>7.7</td>\n",
       "      <td>Kento Yamazaki, Tao Tsuchiya, Nijirô Murakami,...</td>\n",
       "      <td>50 min</td>\n",
       "      <td>Action, Drama, Mystery</td>\n",
       "    </tr>\n",
       "    <tr>\n",
       "      <th>11</th>\n",
       "      <td>The Walking Dead</td>\n",
       "      <td>2010.0</td>\n",
       "      <td>2022.0</td>\n",
       "      <td>8.1</td>\n",
       "      <td>Andrew Lincoln, Norman Reedus, Melissa McBride...</td>\n",
       "      <td>44 min</td>\n",
       "      <td>Drama, Horror, Thriller</td>\n",
       "    </tr>\n",
       "    <tr>\n",
       "      <th>13</th>\n",
       "      <td>Emily in Paris</td>\n",
       "      <td>2020.0</td>\n",
       "      <td>NaN</td>\n",
       "      <td>6.9</td>\n",
       "      <td>Lily Collins, Philippine Leroy-Beaulieu, Ashle...</td>\n",
       "      <td>30 min</td>\n",
       "      <td>Comedy, Drama, Romance</td>\n",
       "    </tr>\n",
       "    <tr>\n",
       "      <th>27</th>\n",
       "      <td>Better Call Saul</td>\n",
       "      <td>2015.0</td>\n",
       "      <td>2022.0</td>\n",
       "      <td>8.9</td>\n",
       "      <td>Bob Odenkirk, Rhea Seehorn, Jonathan Banks, Pa...</td>\n",
       "      <td>46 min</td>\n",
       "      <td>Crime, Drama</td>\n",
       "    </tr>\n",
       "    <tr>\n",
       "      <th>35</th>\n",
       "      <td>Hunters</td>\n",
       "      <td>2020.0</td>\n",
       "      <td>2023.0</td>\n",
       "      <td>7.2</td>\n",
       "      <td>Al Pacino, Logan Lerman, Lena Olin, Jerrika Hi...</td>\n",
       "      <td>60 min</td>\n",
       "      <td>Crime, Drama, Mystery</td>\n",
       "    </tr>\n",
       "  </tbody>\n",
       "</table>\n",
       "</div>"
      ],
      "text/plain": [
       "                  Title  Release Year  End Year Rating  \\\n",
       "6   Alice in Borderland        2020.0       NaN    7.7   \n",
       "11     The Walking Dead        2010.0    2022.0    8.1   \n",
       "13       Emily in Paris        2020.0       NaN    6.9   \n",
       "27     Better Call Saul        2015.0    2022.0    8.9   \n",
       "35              Hunters        2020.0    2023.0    7.2   \n",
       "\n",
       "                                                 Cast Runtime  \\\n",
       "6   Kento Yamazaki, Tao Tsuchiya, Nijirô Murakami,...  50 min   \n",
       "11  Andrew Lincoln, Norman Reedus, Melissa McBride...  44 min   \n",
       "13  Lily Collins, Philippine Leroy-Beaulieu, Ashle...  30 min   \n",
       "27  Bob Odenkirk, Rhea Seehorn, Jonathan Banks, Pa...  46 min   \n",
       "35  Al Pacino, Logan Lerman, Lena Olin, Jerrika Hi...  60 min   \n",
       "\n",
       "                      Genre  \n",
       "6    Action, Drama, Mystery  \n",
       "11  Drama, Horror, Thriller  \n",
       "13   Comedy, Drama, Romance  \n",
       "27             Crime, Drama  \n",
       "35    Crime, Drama, Mystery  "
      ]
     },
     "execution_count": 22,
     "metadata": {},
     "output_type": "execute_result"
    }
   ],
   "source": [
    "# Select all TV shows with release year 2010, 2015 and 2020\n",
    "years = [2010, 2015, 2020]\n",
    "imdb[imdb[\"Release Year\"].isin(years)].head()"
   ]
  },
  {
   "cell_type": "markdown",
   "id": "bf0612c5",
   "metadata": {},
   "source": [
    "<div class=\"alert alert-block alert-success\">\n",
    "    <b>Hands-on:</b>\n",
    "<ol>\n",
    "    <li>Print the first 5 rows of the 'Overall rank', 'Country or region', 'Score' columns.</li>\n",
    "    <li>Print the rows that GDP is within top 25%</li>\n",
    "    <li>Print the rows that GDP is within top 25% and their overall rank is not within top 25%</li>\n",
    "</ol>\n",
    "</div>"
   ]
  },
  {
   "cell_type": "code",
   "execution_count": null,
   "id": "e56fd000",
   "metadata": {},
   "outputs": [],
   "source": [
    "# Print the first 5 rows of the 'Overall rank', 'Country or region', 'Score' columns."
   ]
  },
  {
   "cell_type": "code",
   "execution_count": null,
   "id": "4f9fb055",
   "metadata": {},
   "outputs": [],
   "source": [
    "# Print the rows that GDP is within top 25%\n",
    "## First find the value for the top 25% GDP "
   ]
  },
  {
   "cell_type": "code",
   "execution_count": null,
   "id": "6325e3ac",
   "metadata": {},
   "outputs": [],
   "source": [
    "# Print the rows that GDP is within top 25% and their overall rank is not within top 25%"
   ]
  },
  {
   "cell_type": "markdown",
   "id": "26cd03ff",
   "metadata": {},
   "source": [
    "You may have not noticed, but there are many duplicated titles in our dataset."
   ]
  },
  {
   "cell_type": "code",
   "execution_count": 23,
   "id": "d704959f",
   "metadata": {
    "scrolled": true
   },
   "outputs": [
    {
     "data": {
      "text/html": [
       "<div>\n",
       "<style scoped>\n",
       "    .dataframe tbody tr th:only-of-type {\n",
       "        vertical-align: middle;\n",
       "    }\n",
       "\n",
       "    .dataframe tbody tr th {\n",
       "        vertical-align: top;\n",
       "    }\n",
       "\n",
       "    .dataframe thead th {\n",
       "        text-align: right;\n",
       "    }\n",
       "</style>\n",
       "<table border=\"1\" class=\"dataframe\">\n",
       "  <thead>\n",
       "    <tr style=\"text-align: right;\">\n",
       "      <th></th>\n",
       "      <th>Title</th>\n",
       "      <th>Release Year</th>\n",
       "      <th>End Year</th>\n",
       "      <th>Rating</th>\n",
       "      <th>Cast</th>\n",
       "      <th>Runtime</th>\n",
       "      <th>Genre</th>\n",
       "    </tr>\n",
       "  </thead>\n",
       "  <tbody>\n",
       "    <tr>\n",
       "      <th>6</th>\n",
       "      <td>Alice in Borderland</td>\n",
       "      <td>2020.0</td>\n",
       "      <td>NaN</td>\n",
       "      <td>7.7</td>\n",
       "      <td>Kento Yamazaki, Tao Tsuchiya, Nijirô Murakami,...</td>\n",
       "      <td>50 min</td>\n",
       "      <td>Action, Drama, Mystery</td>\n",
       "    </tr>\n",
       "    <tr>\n",
       "      <th>10006</th>\n",
       "      <td>Alice in Borderland</td>\n",
       "      <td>2020.0</td>\n",
       "      <td>NaN</td>\n",
       "      <td>7.7</td>\n",
       "      <td>Kento Yamazaki, Tao Tsuchiya, Nijirô Murakami,...</td>\n",
       "      <td>50 min</td>\n",
       "      <td>Action, Drama, Mystery</td>\n",
       "    </tr>\n",
       "    <tr>\n",
       "      <th>10056</th>\n",
       "      <td>Alice in Borderland</td>\n",
       "      <td>2020.0</td>\n",
       "      <td>NaN</td>\n",
       "      <td>7.7</td>\n",
       "      <td>Kento Yamazaki, Tao Tsuchiya, Nijirô Murakami,...</td>\n",
       "      <td>50 min</td>\n",
       "      <td>Action, Drama, Mystery</td>\n",
       "    </tr>\n",
       "    <tr>\n",
       "      <th>10106</th>\n",
       "      <td>Alice in Borderland</td>\n",
       "      <td>2020.0</td>\n",
       "      <td>NaN</td>\n",
       "      <td>7.7</td>\n",
       "      <td>Kento Yamazaki, Tao Tsuchiya, Nijirô Murakami,...</td>\n",
       "      <td>50 min</td>\n",
       "      <td>Action, Drama, Mystery</td>\n",
       "    </tr>\n",
       "    <tr>\n",
       "      <th>10156</th>\n",
       "      <td>Alice in Borderland</td>\n",
       "      <td>2020.0</td>\n",
       "      <td>NaN</td>\n",
       "      <td>7.7</td>\n",
       "      <td>Kento Yamazaki, Tao Tsuchiya, Nijirô Murakami,...</td>\n",
       "      <td>50 min</td>\n",
       "      <td>Action, Drama, Mystery</td>\n",
       "    </tr>\n",
       "  </tbody>\n",
       "</table>\n",
       "</div>"
      ],
      "text/plain": [
       "                     Title  Release Year  End Year Rating  \\\n",
       "6      Alice in Borderland        2020.0       NaN    7.7   \n",
       "10006  Alice in Borderland        2020.0       NaN    7.7   \n",
       "10056  Alice in Borderland        2020.0       NaN    7.7   \n",
       "10106  Alice in Borderland        2020.0       NaN    7.7   \n",
       "10156  Alice in Borderland        2020.0       NaN    7.7   \n",
       "\n",
       "                                                    Cast Runtime  \\\n",
       "6      Kento Yamazaki, Tao Tsuchiya, Nijirô Murakami,...  50 min   \n",
       "10006  Kento Yamazaki, Tao Tsuchiya, Nijirô Murakami,...  50 min   \n",
       "10056  Kento Yamazaki, Tao Tsuchiya, Nijirô Murakami,...  50 min   \n",
       "10106  Kento Yamazaki, Tao Tsuchiya, Nijirô Murakami,...  50 min   \n",
       "10156  Kento Yamazaki, Tao Tsuchiya, Nijirô Murakami,...  50 min   \n",
       "\n",
       "                        Genre  \n",
       "6      Action, Drama, Mystery  \n",
       "10006  Action, Drama, Mystery  \n",
       "10056  Action, Drama, Mystery  \n",
       "10106  Action, Drama, Mystery  \n",
       "10156  Action, Drama, Mystery  "
      ]
     },
     "execution_count": 23,
     "metadata": {},
     "output_type": "execute_result"
    }
   ],
   "source": [
    "# Select a different show\n",
    "imdb[imdb[\"Title\"] == \"Alice in Borderland\"].head()"
   ]
  },
  {
   "cell_type": "markdown",
   "id": "a6005cff",
   "metadata": {},
   "source": [
    "To check for duplicated rows we can use the `duplicated()` function."
   ]
  },
  {
   "cell_type": "code",
   "execution_count": 24,
   "id": "bb32692f",
   "metadata": {},
   "outputs": [
    {
     "data": {
      "text/plain": [
       "0        False\n",
       "1        False\n",
       "2        False\n",
       "3        False\n",
       "4        False\n",
       "         ...  \n",
       "49995     True\n",
       "49996     True\n",
       "49997     True\n",
       "49998     True\n",
       "49999     True\n",
       "Length: 50000, dtype: bool"
      ]
     },
     "execution_count": 24,
     "metadata": {},
     "output_type": "execute_result"
    }
   ],
   "source": [
    "# The duplicated() method returns a Series of boolean values\n",
    "imdb.duplicated()"
   ]
  },
  {
   "cell_type": "markdown",
   "id": "b40bef1c",
   "metadata": {},
   "source": [
    "We can use this together with the `any()` function to see if _any_ of the boolean values is `True`."
   ]
  },
  {
   "cell_type": "code",
   "execution_count": 25,
   "id": "742e73e2",
   "metadata": {},
   "outputs": [
    {
     "data": {
      "text/plain": [
       "True"
      ]
     },
     "execution_count": 25,
     "metadata": {},
     "output_type": "execute_result"
    }
   ],
   "source": [
    "# Check if there is any duplicated row\n",
    "imdb.duplicated().any()"
   ]
  },
  {
   "cell_type": "markdown",
   "id": "b082b02e",
   "metadata": {},
   "source": [
    "With this, we can subset our DataFrame to see the duplicated rows."
   ]
  },
  {
   "cell_type": "code",
   "execution_count": 26,
   "id": "27179a88",
   "metadata": {},
   "outputs": [
    {
     "data": {
      "text/html": [
       "<div>\n",
       "<style scoped>\n",
       "    .dataframe tbody tr th:only-of-type {\n",
       "        vertical-align: middle;\n",
       "    }\n",
       "\n",
       "    .dataframe tbody tr th {\n",
       "        vertical-align: top;\n",
       "    }\n",
       "\n",
       "    .dataframe thead th {\n",
       "        text-align: right;\n",
       "    }\n",
       "</style>\n",
       "<table border=\"1\" class=\"dataframe\">\n",
       "  <thead>\n",
       "    <tr style=\"text-align: right;\">\n",
       "      <th></th>\n",
       "      <th>Title</th>\n",
       "      <th>Release Year</th>\n",
       "      <th>End Year</th>\n",
       "      <th>Rating</th>\n",
       "      <th>Cast</th>\n",
       "      <th>Runtime</th>\n",
       "      <th>Genre</th>\n",
       "    </tr>\n",
       "  </thead>\n",
       "  <tbody>\n",
       "    <tr>\n",
       "      <th>10000</th>\n",
       "      <td>Wednesday</td>\n",
       "      <td>2022.0</td>\n",
       "      <td>NaN</td>\n",
       "      <td>8.2</td>\n",
       "      <td>Jenna Ortega, Hunter Doohan, Percy Hynes White...</td>\n",
       "      <td>45 min</td>\n",
       "      <td>Comedy, Crime, Fantasy</td>\n",
       "    </tr>\n",
       "    <tr>\n",
       "      <th>10001</th>\n",
       "      <td>Yellowstone</td>\n",
       "      <td>2018.0</td>\n",
       "      <td>NaN</td>\n",
       "      <td>8.7</td>\n",
       "      <td>Kevin Costner, Luke Grimes, Kelly Reilly, Wes ...</td>\n",
       "      <td>60 min</td>\n",
       "      <td>Drama, Western</td>\n",
       "    </tr>\n",
       "    <tr>\n",
       "      <th>10002</th>\n",
       "      <td>The White Lotus</td>\n",
       "      <td>2021.0</td>\n",
       "      <td>2023.0</td>\n",
       "      <td>7.9</td>\n",
       "      <td>Jennifer Coolidge, Jon Gries, F. Murray Abraha...</td>\n",
       "      <td>60 min</td>\n",
       "      <td>Comedy, Drama</td>\n",
       "    </tr>\n",
       "    <tr>\n",
       "      <th>10003</th>\n",
       "      <td>1923</td>\n",
       "      <td>2022.0</td>\n",
       "      <td>2023.0</td>\n",
       "      <td>8.6</td>\n",
       "      <td>Harrison Ford, Helen Mirren, Brandon Sklenar, ...</td>\n",
       "      <td>60 min</td>\n",
       "      <td>Drama, Western</td>\n",
       "    </tr>\n",
       "    <tr>\n",
       "      <th>10004</th>\n",
       "      <td>Jack Ryan</td>\n",
       "      <td>2018.0</td>\n",
       "      <td>NaN</td>\n",
       "      <td>8</td>\n",
       "      <td>John Krasinski, Wendell Pierce, Michael Kelly,...</td>\n",
       "      <td>60 min</td>\n",
       "      <td>Action, Drama, Thriller</td>\n",
       "    </tr>\n",
       "  </tbody>\n",
       "</table>\n",
       "</div>"
      ],
      "text/plain": [
       "                 Title  Release Year  End Year Rating  \\\n",
       "10000        Wednesday        2022.0       NaN    8.2   \n",
       "10001      Yellowstone        2018.0       NaN    8.7   \n",
       "10002  The White Lotus        2021.0    2023.0    7.9   \n",
       "10003             1923        2022.0    2023.0    8.6   \n",
       "10004        Jack Ryan        2018.0       NaN      8   \n",
       "\n",
       "                                                    Cast Runtime  \\\n",
       "10000  Jenna Ortega, Hunter Doohan, Percy Hynes White...  45 min   \n",
       "10001  Kevin Costner, Luke Grimes, Kelly Reilly, Wes ...  60 min   \n",
       "10002  Jennifer Coolidge, Jon Gries, F. Murray Abraha...  60 min   \n",
       "10003  Harrison Ford, Helen Mirren, Brandon Sklenar, ...  60 min   \n",
       "10004  John Krasinski, Wendell Pierce, Michael Kelly,...  60 min   \n",
       "\n",
       "                         Genre  \n",
       "10000   Comedy, Crime, Fantasy  \n",
       "10001           Drama, Western  \n",
       "10002            Comedy, Drama  \n",
       "10003           Drama, Western  \n",
       "10004  Action, Drama, Thriller  "
      ]
     },
     "execution_count": 26,
     "metadata": {},
     "output_type": "execute_result"
    }
   ],
   "source": [
    "# See some duplicated rows\n",
    "dups = imdb[imdb.duplicated()]\n",
    "dups.head()"
   ]
  },
  {
   "cell_type": "code",
   "execution_count": 27,
   "id": "ffe2fbdf",
   "metadata": {},
   "outputs": [
    {
     "data": {
      "text/html": [
       "<div>\n",
       "<style scoped>\n",
       "    .dataframe tbody tr th:only-of-type {\n",
       "        vertical-align: middle;\n",
       "    }\n",
       "\n",
       "    .dataframe tbody tr th {\n",
       "        vertical-align: top;\n",
       "    }\n",
       "\n",
       "    .dataframe thead th {\n",
       "        text-align: right;\n",
       "    }\n",
       "</style>\n",
       "<table border=\"1\" class=\"dataframe\">\n",
       "  <thead>\n",
       "    <tr style=\"text-align: right;\">\n",
       "      <th></th>\n",
       "      <th>Title</th>\n",
       "      <th>Release Year</th>\n",
       "      <th>End Year</th>\n",
       "      <th>Rating</th>\n",
       "      <th>Cast</th>\n",
       "      <th>Runtime</th>\n",
       "      <th>Genre</th>\n",
       "    </tr>\n",
       "  </thead>\n",
       "  <tbody>\n",
       "    <tr>\n",
       "      <th>10000</th>\n",
       "      <td>Wednesday</td>\n",
       "      <td>2022.0</td>\n",
       "      <td>NaN</td>\n",
       "      <td>8.2</td>\n",
       "      <td>Jenna Ortega, Hunter Doohan, Percy Hynes White...</td>\n",
       "      <td>45 min</td>\n",
       "      <td>Comedy, Crime, Fantasy</td>\n",
       "    </tr>\n",
       "    <tr>\n",
       "      <th>10050</th>\n",
       "      <td>Wednesday</td>\n",
       "      <td>2022.0</td>\n",
       "      <td>NaN</td>\n",
       "      <td>8.2</td>\n",
       "      <td>Jenna Ortega, Hunter Doohan, Percy Hynes White...</td>\n",
       "      <td>45 min</td>\n",
       "      <td>Comedy, Crime, Fantasy</td>\n",
       "    </tr>\n",
       "    <tr>\n",
       "      <th>10100</th>\n",
       "      <td>Wednesday</td>\n",
       "      <td>2022.0</td>\n",
       "      <td>NaN</td>\n",
       "      <td>8.2</td>\n",
       "      <td>Jenna Ortega, Hunter Doohan, Percy Hynes White...</td>\n",
       "      <td>45 min</td>\n",
       "      <td>Comedy, Crime, Fantasy</td>\n",
       "    </tr>\n",
       "    <tr>\n",
       "      <th>10150</th>\n",
       "      <td>Wednesday</td>\n",
       "      <td>2022.0</td>\n",
       "      <td>NaN</td>\n",
       "      <td>8.2</td>\n",
       "      <td>Jenna Ortega, Hunter Doohan, Percy Hynes White...</td>\n",
       "      <td>45 min</td>\n",
       "      <td>Comedy, Crime, Fantasy</td>\n",
       "    </tr>\n",
       "    <tr>\n",
       "      <th>10200</th>\n",
       "      <td>Wednesday</td>\n",
       "      <td>2022.0</td>\n",
       "      <td>NaN</td>\n",
       "      <td>8.2</td>\n",
       "      <td>Jenna Ortega, Hunter Doohan, Percy Hynes White...</td>\n",
       "      <td>45 min</td>\n",
       "      <td>Comedy, Crime, Fantasy</td>\n",
       "    </tr>\n",
       "  </tbody>\n",
       "</table>\n",
       "</div>"
      ],
      "text/plain": [
       "           Title  Release Year  End Year Rating  \\\n",
       "10000  Wednesday        2022.0       NaN    8.2   \n",
       "10050  Wednesday        2022.0       NaN    8.2   \n",
       "10100  Wednesday        2022.0       NaN    8.2   \n",
       "10150  Wednesday        2022.0       NaN    8.2   \n",
       "10200  Wednesday        2022.0       NaN    8.2   \n",
       "\n",
       "                                                    Cast Runtime  \\\n",
       "10000  Jenna Ortega, Hunter Doohan, Percy Hynes White...  45 min   \n",
       "10050  Jenna Ortega, Hunter Doohan, Percy Hynes White...  45 min   \n",
       "10100  Jenna Ortega, Hunter Doohan, Percy Hynes White...  45 min   \n",
       "10150  Jenna Ortega, Hunter Doohan, Percy Hynes White...  45 min   \n",
       "10200  Jenna Ortega, Hunter Doohan, Percy Hynes White...  45 min   \n",
       "\n",
       "                        Genre  \n",
       "10000  Comedy, Crime, Fantasy  \n",
       "10050  Comedy, Crime, Fantasy  \n",
       "10100  Comedy, Crime, Fantasy  \n",
       "10150  Comedy, Crime, Fantasy  \n",
       "10200  Comedy, Crime, Fantasy  "
      ]
     },
     "execution_count": 27,
     "metadata": {},
     "output_type": "execute_result"
    }
   ],
   "source": [
    "# Check one of the duplicated titles\n",
    "dups[dups[\"Title\"] == \"Wednesday\"].head()"
   ]
  },
  {
   "cell_type": "markdown",
   "id": "ce32eb3a",
   "metadata": {},
   "source": [
    "To drop this duplicated rows use the `drop_duplicates()` function."
   ]
  },
  {
   "cell_type": "code",
   "execution_count": 28,
   "id": "d4e27a15",
   "metadata": {},
   "outputs": [
    {
     "data": {
      "text/html": [
       "<div>\n",
       "<style scoped>\n",
       "    .dataframe tbody tr th:only-of-type {\n",
       "        vertical-align: middle;\n",
       "    }\n",
       "\n",
       "    .dataframe tbody tr th {\n",
       "        vertical-align: top;\n",
       "    }\n",
       "\n",
       "    .dataframe thead th {\n",
       "        text-align: right;\n",
       "    }\n",
       "</style>\n",
       "<table border=\"1\" class=\"dataframe\">\n",
       "  <thead>\n",
       "    <tr style=\"text-align: right;\">\n",
       "      <th></th>\n",
       "      <th>Title</th>\n",
       "      <th>Release Year</th>\n",
       "      <th>End Year</th>\n",
       "      <th>Rating</th>\n",
       "      <th>Cast</th>\n",
       "      <th>Runtime</th>\n",
       "      <th>Genre</th>\n",
       "    </tr>\n",
       "  </thead>\n",
       "  <tbody>\n",
       "    <tr>\n",
       "      <th>6</th>\n",
       "      <td>Alice in Borderland</td>\n",
       "      <td>2020.0</td>\n",
       "      <td>NaN</td>\n",
       "      <td>7.7</td>\n",
       "      <td>Kento Yamazaki, Tao Tsuchiya, Nijirô Murakami,...</td>\n",
       "      <td>50 min</td>\n",
       "      <td>Action, Drama, Mystery</td>\n",
       "    </tr>\n",
       "  </tbody>\n",
       "</table>\n",
       "</div>"
      ],
      "text/plain": [
       "                 Title  Release Year  End Year Rating  \\\n",
       "6  Alice in Borderland        2020.0       NaN    7.7   \n",
       "\n",
       "                                                Cast Runtime  \\\n",
       "6  Kento Yamazaki, Tao Tsuchiya, Nijirô Murakami,...  50 min   \n",
       "\n",
       "                    Genre  \n",
       "6  Action, Drama, Mystery  "
      ]
     },
     "execution_count": 28,
     "metadata": {},
     "output_type": "execute_result"
    }
   ],
   "source": [
    "# Drop duplicated rows\n",
    "imdb.drop_duplicates(inplace=True)\n",
    "imdb[imdb[\"Title\"] == \"Alice in Borderland\"].head()"
   ]
  },
  {
   "cell_type": "markdown",
   "id": "6dd114c8",
   "metadata": {},
   "source": [
    "<div class=\"alert alert-block alert-success\">\n",
    "    <b>Hands-on:</b> \n",
    "<ol>\n",
    "    <li>Check for duplicates in the happiness2019 dataset.</li>\n",
    "</ol>\n",
    "</div>"
   ]
  },
  {
   "cell_type": "code",
   "execution_count": null,
   "id": "5a702b2d",
   "metadata": {},
   "outputs": [],
   "source": [
    "# Check for duplicates"
   ]
  },
  {
   "cell_type": "markdown",
   "id": "55d92557",
   "metadata": {},
   "source": [
    "#### Location-based indexing"
   ]
  },
  {
   "cell_type": "markdown",
   "id": "49619360",
   "metadata": {},
   "source": [
    "Pandas has two additional ways of indexing that allow us to select specified rows and columns: `.loc` and `.iloc`. \n",
    "\n",
    "The `.loc` method is used to obtain rows and columns with a specific label. Since we have not modified the row labels, these correspond to their integer index."
   ]
  },
  {
   "cell_type": "code",
   "execution_count": 29,
   "id": "3a250863",
   "metadata": {},
   "outputs": [
    {
     "data": {
      "text/plain": [
       "'The Walking Dead'"
      ]
     },
     "execution_count": 29,
     "metadata": {},
     "output_type": "execute_result"
    }
   ],
   "source": [
    "# Select the 11th title\n",
    "imdb.loc[11, \"Title\"]"
   ]
  },
  {
   "cell_type": "markdown",
   "id": "82b2a91a",
   "metadata": {},
   "source": [
    "However, the most useful way to use the `.loc` method is by subsetting rows based on a condition and selection columns by name."
   ]
  },
  {
   "cell_type": "code",
   "execution_count": 30,
   "id": "1e736528",
   "metadata": {},
   "outputs": [
    {
     "data": {
      "text/plain": [
       "6     Alice in Borderland\n",
       "11       The Walking Dead\n",
       "13         Emily in Paris\n",
       "27       Better Call Saul\n",
       "35                Hunters\n",
       "Name: Title, dtype: object"
      ]
     },
     "execution_count": 30,
     "metadata": {},
     "output_type": "execute_result"
    }
   ],
   "source": [
    "# Select the TV show titles released in 2010, 2015 and 2020\n",
    "years = [2010, 2015, 2020]\n",
    "imdb.loc[imdb[\"Release Year\"].isin(years), \n",
    "         \"Title\"].head()"
   ]
  },
  {
   "cell_type": "markdown",
   "id": "b57141ed",
   "metadata": {},
   "source": [
    "We can use this to obtain more than one column too."
   ]
  },
  {
   "cell_type": "code",
   "execution_count": 31,
   "id": "3b773124",
   "metadata": {},
   "outputs": [
    {
     "data": {
      "text/html": [
       "<div>\n",
       "<style scoped>\n",
       "    .dataframe tbody tr th:only-of-type {\n",
       "        vertical-align: middle;\n",
       "    }\n",
       "\n",
       "    .dataframe tbody tr th {\n",
       "        vertical-align: top;\n",
       "    }\n",
       "\n",
       "    .dataframe thead th {\n",
       "        text-align: right;\n",
       "    }\n",
       "</style>\n",
       "<table border=\"1\" class=\"dataframe\">\n",
       "  <thead>\n",
       "    <tr style=\"text-align: right;\">\n",
       "      <th></th>\n",
       "      <th>Title</th>\n",
       "      <th>Release Year</th>\n",
       "      <th>Rating</th>\n",
       "    </tr>\n",
       "  </thead>\n",
       "  <tbody>\n",
       "    <tr>\n",
       "      <th>6</th>\n",
       "      <td>Alice in Borderland</td>\n",
       "      <td>2020.0</td>\n",
       "      <td>7.7</td>\n",
       "    </tr>\n",
       "    <tr>\n",
       "      <th>11</th>\n",
       "      <td>The Walking Dead</td>\n",
       "      <td>2010.0</td>\n",
       "      <td>8.1</td>\n",
       "    </tr>\n",
       "    <tr>\n",
       "      <th>13</th>\n",
       "      <td>Emily in Paris</td>\n",
       "      <td>2020.0</td>\n",
       "      <td>6.9</td>\n",
       "    </tr>\n",
       "    <tr>\n",
       "      <th>27</th>\n",
       "      <td>Better Call Saul</td>\n",
       "      <td>2015.0</td>\n",
       "      <td>8.9</td>\n",
       "    </tr>\n",
       "    <tr>\n",
       "      <th>35</th>\n",
       "      <td>Hunters</td>\n",
       "      <td>2020.0</td>\n",
       "      <td>7.2</td>\n",
       "    </tr>\n",
       "  </tbody>\n",
       "</table>\n",
       "</div>"
      ],
      "text/plain": [
       "                  Title  Release Year Rating\n",
       "6   Alice in Borderland        2020.0    7.7\n",
       "11     The Walking Dead        2010.0    8.1\n",
       "13       Emily in Paris        2020.0    6.9\n",
       "27     Better Call Saul        2015.0    8.9\n",
       "35              Hunters        2020.0    7.2"
      ]
     },
     "execution_count": 31,
     "metadata": {},
     "output_type": "execute_result"
    }
   ],
   "source": [
    "# Select the TV show titles and rating\n",
    "years = [2010, 2015, 2020]\n",
    "cols = [\"Title\", \"Release Year\", \"Rating\"]\n",
    "imdb.loc[imdb[\"Release Year\"].isin(years), cols].head()"
   ]
  },
  {
   "cell_type": "markdown",
   "id": "4f722966",
   "metadata": {},
   "source": [
    "On the other hand, the `.iloc` method is mainly integer position based. For example, if we want to take the first row and first to third columns."
   ]
  },
  {
   "cell_type": "code",
   "execution_count": 32,
   "id": "07fdef81",
   "metadata": {},
   "outputs": [
    {
     "data": {
      "text/plain": [
       "Title           Wednesday\n",
       "Release Year       2022.0\n",
       "End Year              NaN\n",
       "Name: 0, dtype: object"
      ]
     },
     "execution_count": 32,
     "metadata": {},
     "output_type": "execute_result"
    }
   ],
   "source": [
    "# First row and first to third columns (remember: [r, c])\n",
    "imdb.iloc[0, 0:3]"
   ]
  },
  {
   "cell_type": "markdown",
   "id": "6f8d7d52",
   "metadata": {},
   "source": [
    "We can also obtain non consecutive rows and columns by using lists."
   ]
  },
  {
   "cell_type": "code",
   "execution_count": 33,
   "id": "ef12fdcf",
   "metadata": {},
   "outputs": [
    {
     "data": {
      "text/html": [
       "<div>\n",
       "<style scoped>\n",
       "    .dataframe tbody tr th:only-of-type {\n",
       "        vertical-align: middle;\n",
       "    }\n",
       "\n",
       "    .dataframe tbody tr th {\n",
       "        vertical-align: top;\n",
       "    }\n",
       "\n",
       "    .dataframe thead th {\n",
       "        text-align: right;\n",
       "    }\n",
       "</style>\n",
       "<table border=\"1\" class=\"dataframe\">\n",
       "  <thead>\n",
       "    <tr style=\"text-align: right;\">\n",
       "      <th></th>\n",
       "      <th>Title</th>\n",
       "      <th>Rating</th>\n",
       "    </tr>\n",
       "  </thead>\n",
       "  <tbody>\n",
       "    <tr>\n",
       "      <th>0</th>\n",
       "      <td>Wednesday</td>\n",
       "      <td>8.2</td>\n",
       "    </tr>\n",
       "    <tr>\n",
       "      <th>4</th>\n",
       "      <td>Jack Ryan</td>\n",
       "      <td>8</td>\n",
       "    </tr>\n",
       "  </tbody>\n",
       "</table>\n",
       "</div>"
      ],
      "text/plain": [
       "       Title Rating\n",
       "0  Wednesday    8.2\n",
       "4  Jack Ryan      8"
      ]
     },
     "execution_count": 33,
     "metadata": {},
     "output_type": "execute_result"
    }
   ],
   "source": [
    "# First and fifth rows with the first and fourth columns\n",
    "imdb.iloc[[0, 4], [0, 3]]"
   ]
  },
  {
   "cell_type": "markdown",
   "id": "f28648d4",
   "metadata": {},
   "source": [
    "## Dealing with missing data\n",
    "\n",
    "We have already seen some of the missing values in the Release Year and End Year columns encoded as NaN (Not a Number), but there are also missing values that we may not be aware of until they get in the way. For example, if we wanted to change the Rating column to a float type, Python would throw an error."
   ]
  },
  {
   "cell_type": "code",
   "execution_count": 34,
   "id": "7ea592a9",
   "metadata": {},
   "outputs": [
    {
     "name": "stdout",
     "output_type": "stream",
     "text": [
      "object\n"
     ]
    }
   ],
   "source": [
    "print(imdb[\"Rating\"].dtypes)"
   ]
  },
  {
   "cell_type": "code",
   "execution_count": 35,
   "id": "caeb779e",
   "metadata": {},
   "outputs": [
    {
     "ename": "ValueError",
     "evalue": "could not convert string to float: '****'",
     "output_type": "error",
     "traceback": [
      "\u001b[0;31m---------------------------------------------------------------------------\u001b[0m",
      "\u001b[0;31mValueError\u001b[0m                                Traceback (most recent call last)",
      "Cell \u001b[0;32mIn[35], line 2\u001b[0m\n\u001b[1;32m      1\u001b[0m \u001b[38;5;66;03m# Convert Rating to float\u001b[39;00m\n\u001b[0;32m----> 2\u001b[0m \u001b[43mimdb\u001b[49m\u001b[43m[\u001b[49m\u001b[38;5;124;43m\"\u001b[39;49m\u001b[38;5;124;43mRating\u001b[39;49m\u001b[38;5;124;43m\"\u001b[39;49m\u001b[43m]\u001b[49m\u001b[38;5;241;43m.\u001b[39;49m\u001b[43mastype\u001b[49m\u001b[43m(\u001b[49m\u001b[38;5;124;43m\"\u001b[39;49m\u001b[38;5;124;43mfloat\u001b[39;49m\u001b[38;5;124;43m\"\u001b[39;49m\u001b[43m)\u001b[49m\n",
      "File \u001b[0;32m~/GitHub/bootcamp-python/.venv/lib/python3.10/site-packages/pandas/core/generic.py:6643\u001b[0m, in \u001b[0;36mNDFrame.astype\u001b[0;34m(self, dtype, copy, errors)\u001b[0m\n\u001b[1;32m   6637\u001b[0m     results \u001b[38;5;241m=\u001b[39m [\n\u001b[1;32m   6638\u001b[0m         ser\u001b[38;5;241m.\u001b[39mastype(dtype, copy\u001b[38;5;241m=\u001b[39mcopy, errors\u001b[38;5;241m=\u001b[39merrors) \u001b[38;5;28;01mfor\u001b[39;00m _, ser \u001b[38;5;129;01min\u001b[39;00m \u001b[38;5;28mself\u001b[39m\u001b[38;5;241m.\u001b[39mitems()\n\u001b[1;32m   6639\u001b[0m     ]\n\u001b[1;32m   6641\u001b[0m \u001b[38;5;28;01melse\u001b[39;00m:\n\u001b[1;32m   6642\u001b[0m     \u001b[38;5;66;03m# else, only a single dtype is given\u001b[39;00m\n\u001b[0;32m-> 6643\u001b[0m     new_data \u001b[38;5;241m=\u001b[39m \u001b[38;5;28;43mself\u001b[39;49m\u001b[38;5;241;43m.\u001b[39;49m\u001b[43m_mgr\u001b[49m\u001b[38;5;241;43m.\u001b[39;49m\u001b[43mastype\u001b[49m\u001b[43m(\u001b[49m\u001b[43mdtype\u001b[49m\u001b[38;5;241;43m=\u001b[39;49m\u001b[43mdtype\u001b[49m\u001b[43m,\u001b[49m\u001b[43m \u001b[49m\u001b[43mcopy\u001b[49m\u001b[38;5;241;43m=\u001b[39;49m\u001b[43mcopy\u001b[49m\u001b[43m,\u001b[49m\u001b[43m \u001b[49m\u001b[43merrors\u001b[49m\u001b[38;5;241;43m=\u001b[39;49m\u001b[43merrors\u001b[49m\u001b[43m)\u001b[49m\n\u001b[1;32m   6644\u001b[0m     res \u001b[38;5;241m=\u001b[39m \u001b[38;5;28mself\u001b[39m\u001b[38;5;241m.\u001b[39m_constructor_from_mgr(new_data, axes\u001b[38;5;241m=\u001b[39mnew_data\u001b[38;5;241m.\u001b[39maxes)\n\u001b[1;32m   6645\u001b[0m     \u001b[38;5;28;01mreturn\u001b[39;00m res\u001b[38;5;241m.\u001b[39m__finalize__(\u001b[38;5;28mself\u001b[39m, method\u001b[38;5;241m=\u001b[39m\u001b[38;5;124m\"\u001b[39m\u001b[38;5;124mastype\u001b[39m\u001b[38;5;124m\"\u001b[39m)\n",
      "File \u001b[0;32m~/GitHub/bootcamp-python/.venv/lib/python3.10/site-packages/pandas/core/internals/managers.py:430\u001b[0m, in \u001b[0;36mBaseBlockManager.astype\u001b[0;34m(self, dtype, copy, errors)\u001b[0m\n\u001b[1;32m    427\u001b[0m \u001b[38;5;28;01melif\u001b[39;00m using_copy_on_write():\n\u001b[1;32m    428\u001b[0m     copy \u001b[38;5;241m=\u001b[39m \u001b[38;5;28;01mFalse\u001b[39;00m\n\u001b[0;32m--> 430\u001b[0m \u001b[38;5;28;01mreturn\u001b[39;00m \u001b[38;5;28;43mself\u001b[39;49m\u001b[38;5;241;43m.\u001b[39;49m\u001b[43mapply\u001b[49m\u001b[43m(\u001b[49m\n\u001b[1;32m    431\u001b[0m \u001b[43m    \u001b[49m\u001b[38;5;124;43m\"\u001b[39;49m\u001b[38;5;124;43mastype\u001b[39;49m\u001b[38;5;124;43m\"\u001b[39;49m\u001b[43m,\u001b[49m\n\u001b[1;32m    432\u001b[0m \u001b[43m    \u001b[49m\u001b[43mdtype\u001b[49m\u001b[38;5;241;43m=\u001b[39;49m\u001b[43mdtype\u001b[49m\u001b[43m,\u001b[49m\n\u001b[1;32m    433\u001b[0m \u001b[43m    \u001b[49m\u001b[43mcopy\u001b[49m\u001b[38;5;241;43m=\u001b[39;49m\u001b[43mcopy\u001b[49m\u001b[43m,\u001b[49m\n\u001b[1;32m    434\u001b[0m \u001b[43m    \u001b[49m\u001b[43merrors\u001b[49m\u001b[38;5;241;43m=\u001b[39;49m\u001b[43merrors\u001b[49m\u001b[43m,\u001b[49m\n\u001b[1;32m    435\u001b[0m \u001b[43m    \u001b[49m\u001b[43musing_cow\u001b[49m\u001b[38;5;241;43m=\u001b[39;49m\u001b[43musing_copy_on_write\u001b[49m\u001b[43m(\u001b[49m\u001b[43m)\u001b[49m\u001b[43m,\u001b[49m\n\u001b[1;32m    436\u001b[0m \u001b[43m\u001b[49m\u001b[43m)\u001b[49m\n",
      "File \u001b[0;32m~/GitHub/bootcamp-python/.venv/lib/python3.10/site-packages/pandas/core/internals/managers.py:363\u001b[0m, in \u001b[0;36mBaseBlockManager.apply\u001b[0;34m(self, f, align_keys, **kwargs)\u001b[0m\n\u001b[1;32m    361\u001b[0m         applied \u001b[38;5;241m=\u001b[39m b\u001b[38;5;241m.\u001b[39mapply(f, \u001b[38;5;241m*\u001b[39m\u001b[38;5;241m*\u001b[39mkwargs)\n\u001b[1;32m    362\u001b[0m     \u001b[38;5;28;01melse\u001b[39;00m:\n\u001b[0;32m--> 363\u001b[0m         applied \u001b[38;5;241m=\u001b[39m \u001b[38;5;28;43mgetattr\u001b[39;49m\u001b[43m(\u001b[49m\u001b[43mb\u001b[49m\u001b[43m,\u001b[49m\u001b[43m \u001b[49m\u001b[43mf\u001b[49m\u001b[43m)\u001b[49m\u001b[43m(\u001b[49m\u001b[38;5;241;43m*\u001b[39;49m\u001b[38;5;241;43m*\u001b[39;49m\u001b[43mkwargs\u001b[49m\u001b[43m)\u001b[49m\n\u001b[1;32m    364\u001b[0m     result_blocks \u001b[38;5;241m=\u001b[39m extend_blocks(applied, result_blocks)\n\u001b[1;32m    366\u001b[0m out \u001b[38;5;241m=\u001b[39m \u001b[38;5;28mtype\u001b[39m(\u001b[38;5;28mself\u001b[39m)\u001b[38;5;241m.\u001b[39mfrom_blocks(result_blocks, \u001b[38;5;28mself\u001b[39m\u001b[38;5;241m.\u001b[39maxes)\n",
      "File \u001b[0;32m~/GitHub/bootcamp-python/.venv/lib/python3.10/site-packages/pandas/core/internals/blocks.py:758\u001b[0m, in \u001b[0;36mBlock.astype\u001b[0;34m(self, dtype, copy, errors, using_cow, squeeze)\u001b[0m\n\u001b[1;32m    755\u001b[0m         \u001b[38;5;28;01mraise\u001b[39;00m \u001b[38;5;167;01mValueError\u001b[39;00m(\u001b[38;5;124m\"\u001b[39m\u001b[38;5;124mCan not squeeze with more than one column.\u001b[39m\u001b[38;5;124m\"\u001b[39m)\n\u001b[1;32m    756\u001b[0m     values \u001b[38;5;241m=\u001b[39m values[\u001b[38;5;241m0\u001b[39m, :]  \u001b[38;5;66;03m# type: ignore[call-overload]\u001b[39;00m\n\u001b[0;32m--> 758\u001b[0m new_values \u001b[38;5;241m=\u001b[39m \u001b[43mastype_array_safe\u001b[49m\u001b[43m(\u001b[49m\u001b[43mvalues\u001b[49m\u001b[43m,\u001b[49m\u001b[43m \u001b[49m\u001b[43mdtype\u001b[49m\u001b[43m,\u001b[49m\u001b[43m \u001b[49m\u001b[43mcopy\u001b[49m\u001b[38;5;241;43m=\u001b[39;49m\u001b[43mcopy\u001b[49m\u001b[43m,\u001b[49m\u001b[43m \u001b[49m\u001b[43merrors\u001b[49m\u001b[38;5;241;43m=\u001b[39;49m\u001b[43merrors\u001b[49m\u001b[43m)\u001b[49m\n\u001b[1;32m    760\u001b[0m new_values \u001b[38;5;241m=\u001b[39m maybe_coerce_values(new_values)\n\u001b[1;32m    762\u001b[0m refs \u001b[38;5;241m=\u001b[39m \u001b[38;5;28;01mNone\u001b[39;00m\n",
      "File \u001b[0;32m~/GitHub/bootcamp-python/.venv/lib/python3.10/site-packages/pandas/core/dtypes/astype.py:237\u001b[0m, in \u001b[0;36mastype_array_safe\u001b[0;34m(values, dtype, copy, errors)\u001b[0m\n\u001b[1;32m    234\u001b[0m     dtype \u001b[38;5;241m=\u001b[39m dtype\u001b[38;5;241m.\u001b[39mnumpy_dtype\n\u001b[1;32m    236\u001b[0m \u001b[38;5;28;01mtry\u001b[39;00m:\n\u001b[0;32m--> 237\u001b[0m     new_values \u001b[38;5;241m=\u001b[39m \u001b[43mastype_array\u001b[49m\u001b[43m(\u001b[49m\u001b[43mvalues\u001b[49m\u001b[43m,\u001b[49m\u001b[43m \u001b[49m\u001b[43mdtype\u001b[49m\u001b[43m,\u001b[49m\u001b[43m \u001b[49m\u001b[43mcopy\u001b[49m\u001b[38;5;241;43m=\u001b[39;49m\u001b[43mcopy\u001b[49m\u001b[43m)\u001b[49m\n\u001b[1;32m    238\u001b[0m \u001b[38;5;28;01mexcept\u001b[39;00m (\u001b[38;5;167;01mValueError\u001b[39;00m, \u001b[38;5;167;01mTypeError\u001b[39;00m):\n\u001b[1;32m    239\u001b[0m     \u001b[38;5;66;03m# e.g. _astype_nansafe can fail on object-dtype of strings\u001b[39;00m\n\u001b[1;32m    240\u001b[0m     \u001b[38;5;66;03m#  trying to convert to float\u001b[39;00m\n\u001b[1;32m    241\u001b[0m     \u001b[38;5;28;01mif\u001b[39;00m errors \u001b[38;5;241m==\u001b[39m \u001b[38;5;124m\"\u001b[39m\u001b[38;5;124mignore\u001b[39m\u001b[38;5;124m\"\u001b[39m:\n",
      "File \u001b[0;32m~/GitHub/bootcamp-python/.venv/lib/python3.10/site-packages/pandas/core/dtypes/astype.py:182\u001b[0m, in \u001b[0;36mastype_array\u001b[0;34m(values, dtype, copy)\u001b[0m\n\u001b[1;32m    179\u001b[0m     values \u001b[38;5;241m=\u001b[39m values\u001b[38;5;241m.\u001b[39mastype(dtype, copy\u001b[38;5;241m=\u001b[39mcopy)\n\u001b[1;32m    181\u001b[0m \u001b[38;5;28;01melse\u001b[39;00m:\n\u001b[0;32m--> 182\u001b[0m     values \u001b[38;5;241m=\u001b[39m \u001b[43m_astype_nansafe\u001b[49m\u001b[43m(\u001b[49m\u001b[43mvalues\u001b[49m\u001b[43m,\u001b[49m\u001b[43m \u001b[49m\u001b[43mdtype\u001b[49m\u001b[43m,\u001b[49m\u001b[43m \u001b[49m\u001b[43mcopy\u001b[49m\u001b[38;5;241;43m=\u001b[39;49m\u001b[43mcopy\u001b[49m\u001b[43m)\u001b[49m\n\u001b[1;32m    184\u001b[0m \u001b[38;5;66;03m# in pandas we don't store numpy str dtypes, so convert to object\u001b[39;00m\n\u001b[1;32m    185\u001b[0m \u001b[38;5;28;01mif\u001b[39;00m \u001b[38;5;28misinstance\u001b[39m(dtype, np\u001b[38;5;241m.\u001b[39mdtype) \u001b[38;5;129;01mand\u001b[39;00m \u001b[38;5;28missubclass\u001b[39m(values\u001b[38;5;241m.\u001b[39mdtype\u001b[38;5;241m.\u001b[39mtype, \u001b[38;5;28mstr\u001b[39m):\n",
      "File \u001b[0;32m~/GitHub/bootcamp-python/.venv/lib/python3.10/site-packages/pandas/core/dtypes/astype.py:133\u001b[0m, in \u001b[0;36m_astype_nansafe\u001b[0;34m(arr, dtype, copy, skipna)\u001b[0m\n\u001b[1;32m    129\u001b[0m     \u001b[38;5;28;01mraise\u001b[39;00m \u001b[38;5;167;01mValueError\u001b[39;00m(msg)\n\u001b[1;32m    131\u001b[0m \u001b[38;5;28;01mif\u001b[39;00m copy \u001b[38;5;129;01mor\u001b[39;00m arr\u001b[38;5;241m.\u001b[39mdtype \u001b[38;5;241m==\u001b[39m \u001b[38;5;28mobject\u001b[39m \u001b[38;5;129;01mor\u001b[39;00m dtype \u001b[38;5;241m==\u001b[39m \u001b[38;5;28mobject\u001b[39m:\n\u001b[1;32m    132\u001b[0m     \u001b[38;5;66;03m# Explicit copy, or required since NumPy can't view from / to object.\u001b[39;00m\n\u001b[0;32m--> 133\u001b[0m     \u001b[38;5;28;01mreturn\u001b[39;00m \u001b[43marr\u001b[49m\u001b[38;5;241;43m.\u001b[39;49m\u001b[43mastype\u001b[49m\u001b[43m(\u001b[49m\u001b[43mdtype\u001b[49m\u001b[43m,\u001b[49m\u001b[43m \u001b[49m\u001b[43mcopy\u001b[49m\u001b[38;5;241;43m=\u001b[39;49m\u001b[38;5;28;43;01mTrue\u001b[39;49;00m\u001b[43m)\u001b[49m\n\u001b[1;32m    135\u001b[0m \u001b[38;5;28;01mreturn\u001b[39;00m arr\u001b[38;5;241m.\u001b[39mastype(dtype, copy\u001b[38;5;241m=\u001b[39mcopy)\n",
      "\u001b[0;31mValueError\u001b[0m: could not convert string to float: '****'"
     ]
    }
   ],
   "source": [
    "# Convert Rating to float (expect an error)\n",
    "imdb[\"Rating\"].astype(\"float\")"
   ]
  },
  {
   "cell_type": "markdown",
   "id": "f1b0689b",
   "metadata": {},
   "source": [
    "Most libraries (including scikit-learn) will complain when working with missing values, even if these are stored as NaN. Moreover, missing values can drastically impact the quality of your models."
   ]
  },
  {
   "cell_type": "code",
   "execution_count": 36,
   "id": "2e14e5f3",
   "metadata": {
    "scrolled": true
   },
   "outputs": [
    {
     "ename": "ValueError",
     "evalue": "Input X contains NaN.\nLinearRegression does not accept missing values encoded as NaN natively. For supervised learning, you might want to consider sklearn.ensemble.HistGradientBoostingClassifier and Regressor which accept missing values encoded as NaNs natively. Alternatively, it is possible to preprocess the data, for instance by using an imputer transformer in a pipeline or drop samples with missing values. See https://scikit-learn.org/stable/modules/impute.html You can find a list of all estimators that handle NaN values at the following page: https://scikit-learn.org/stable/modules/impute.html#estimators-that-handle-nan-values",
     "output_type": "error",
     "traceback": [
      "\u001b[0;31m---------------------------------------------------------------------------\u001b[0m",
      "\u001b[0;31mValueError\u001b[0m                                Traceback (most recent call last)",
      "Cell \u001b[0;32mIn[36], line 11\u001b[0m\n\u001b[1;32m      9\u001b[0m \u001b[38;5;66;03m# Linear regression model\u001b[39;00m\n\u001b[1;32m     10\u001b[0m regr \u001b[38;5;241m=\u001b[39m LinearRegression()\n\u001b[0;32m---> 11\u001b[0m \u001b[43mregr\u001b[49m\u001b[38;5;241;43m.\u001b[39;49m\u001b[43mfit\u001b[49m\u001b[43m(\u001b[49m\u001b[43mX\u001b[49m\u001b[43m,\u001b[49m\u001b[43m \u001b[49m\u001b[43my\u001b[49m\u001b[43m)\u001b[49m\n",
      "File \u001b[0;32m~/GitHub/bootcamp-python/.venv/lib/python3.10/site-packages/sklearn/base.py:1473\u001b[0m, in \u001b[0;36m_fit_context.<locals>.decorator.<locals>.wrapper\u001b[0;34m(estimator, *args, **kwargs)\u001b[0m\n\u001b[1;32m   1466\u001b[0m     estimator\u001b[38;5;241m.\u001b[39m_validate_params()\n\u001b[1;32m   1468\u001b[0m \u001b[38;5;28;01mwith\u001b[39;00m config_context(\n\u001b[1;32m   1469\u001b[0m     skip_parameter_validation\u001b[38;5;241m=\u001b[39m(\n\u001b[1;32m   1470\u001b[0m         prefer_skip_nested_validation \u001b[38;5;129;01mor\u001b[39;00m global_skip_validation\n\u001b[1;32m   1471\u001b[0m     )\n\u001b[1;32m   1472\u001b[0m ):\n\u001b[0;32m-> 1473\u001b[0m     \u001b[38;5;28;01mreturn\u001b[39;00m \u001b[43mfit_method\u001b[49m\u001b[43m(\u001b[49m\u001b[43mestimator\u001b[49m\u001b[43m,\u001b[49m\u001b[43m \u001b[49m\u001b[38;5;241;43m*\u001b[39;49m\u001b[43margs\u001b[49m\u001b[43m,\u001b[49m\u001b[43m \u001b[49m\u001b[38;5;241;43m*\u001b[39;49m\u001b[38;5;241;43m*\u001b[39;49m\u001b[43mkwargs\u001b[49m\u001b[43m)\u001b[49m\n",
      "File \u001b[0;32m~/GitHub/bootcamp-python/.venv/lib/python3.10/site-packages/sklearn/linear_model/_base.py:609\u001b[0m, in \u001b[0;36mLinearRegression.fit\u001b[0;34m(self, X, y, sample_weight)\u001b[0m\n\u001b[1;32m    605\u001b[0m n_jobs_ \u001b[38;5;241m=\u001b[39m \u001b[38;5;28mself\u001b[39m\u001b[38;5;241m.\u001b[39mn_jobs\n\u001b[1;32m    607\u001b[0m accept_sparse \u001b[38;5;241m=\u001b[39m \u001b[38;5;28;01mFalse\u001b[39;00m \u001b[38;5;28;01mif\u001b[39;00m \u001b[38;5;28mself\u001b[39m\u001b[38;5;241m.\u001b[39mpositive \u001b[38;5;28;01melse\u001b[39;00m [\u001b[38;5;124m\"\u001b[39m\u001b[38;5;124mcsr\u001b[39m\u001b[38;5;124m\"\u001b[39m, \u001b[38;5;124m\"\u001b[39m\u001b[38;5;124mcsc\u001b[39m\u001b[38;5;124m\"\u001b[39m, \u001b[38;5;124m\"\u001b[39m\u001b[38;5;124mcoo\u001b[39m\u001b[38;5;124m\"\u001b[39m]\n\u001b[0;32m--> 609\u001b[0m X, y \u001b[38;5;241m=\u001b[39m \u001b[38;5;28;43mself\u001b[39;49m\u001b[38;5;241;43m.\u001b[39;49m\u001b[43m_validate_data\u001b[49m\u001b[43m(\u001b[49m\n\u001b[1;32m    610\u001b[0m \u001b[43m    \u001b[49m\u001b[43mX\u001b[49m\u001b[43m,\u001b[49m\u001b[43m \u001b[49m\u001b[43my\u001b[49m\u001b[43m,\u001b[49m\u001b[43m \u001b[49m\u001b[43maccept_sparse\u001b[49m\u001b[38;5;241;43m=\u001b[39;49m\u001b[43maccept_sparse\u001b[49m\u001b[43m,\u001b[49m\u001b[43m \u001b[49m\u001b[43my_numeric\u001b[49m\u001b[38;5;241;43m=\u001b[39;49m\u001b[38;5;28;43;01mTrue\u001b[39;49;00m\u001b[43m,\u001b[49m\u001b[43m \u001b[49m\u001b[43mmulti_output\u001b[49m\u001b[38;5;241;43m=\u001b[39;49m\u001b[38;5;28;43;01mTrue\u001b[39;49;00m\n\u001b[1;32m    611\u001b[0m \u001b[43m\u001b[49m\u001b[43m)\u001b[49m\n\u001b[1;32m    613\u001b[0m has_sw \u001b[38;5;241m=\u001b[39m sample_weight \u001b[38;5;129;01mis\u001b[39;00m \u001b[38;5;129;01mnot\u001b[39;00m \u001b[38;5;28;01mNone\u001b[39;00m\n\u001b[1;32m    614\u001b[0m \u001b[38;5;28;01mif\u001b[39;00m has_sw:\n",
      "File \u001b[0;32m~/GitHub/bootcamp-python/.venv/lib/python3.10/site-packages/sklearn/base.py:650\u001b[0m, in \u001b[0;36mBaseEstimator._validate_data\u001b[0;34m(self, X, y, reset, validate_separately, cast_to_ndarray, **check_params)\u001b[0m\n\u001b[1;32m    648\u001b[0m         y \u001b[38;5;241m=\u001b[39m check_array(y, input_name\u001b[38;5;241m=\u001b[39m\u001b[38;5;124m\"\u001b[39m\u001b[38;5;124my\u001b[39m\u001b[38;5;124m\"\u001b[39m, \u001b[38;5;241m*\u001b[39m\u001b[38;5;241m*\u001b[39mcheck_y_params)\n\u001b[1;32m    649\u001b[0m     \u001b[38;5;28;01melse\u001b[39;00m:\n\u001b[0;32m--> 650\u001b[0m         X, y \u001b[38;5;241m=\u001b[39m \u001b[43mcheck_X_y\u001b[49m\u001b[43m(\u001b[49m\u001b[43mX\u001b[49m\u001b[43m,\u001b[49m\u001b[43m \u001b[49m\u001b[43my\u001b[49m\u001b[43m,\u001b[49m\u001b[43m \u001b[49m\u001b[38;5;241;43m*\u001b[39;49m\u001b[38;5;241;43m*\u001b[39;49m\u001b[43mcheck_params\u001b[49m\u001b[43m)\u001b[49m\n\u001b[1;32m    651\u001b[0m     out \u001b[38;5;241m=\u001b[39m X, y\n\u001b[1;32m    653\u001b[0m \u001b[38;5;28;01mif\u001b[39;00m \u001b[38;5;129;01mnot\u001b[39;00m no_val_X \u001b[38;5;129;01mand\u001b[39;00m check_params\u001b[38;5;241m.\u001b[39mget(\u001b[38;5;124m\"\u001b[39m\u001b[38;5;124mensure_2d\u001b[39m\u001b[38;5;124m\"\u001b[39m, \u001b[38;5;28;01mTrue\u001b[39;00m):\n",
      "File \u001b[0;32m~/GitHub/bootcamp-python/.venv/lib/python3.10/site-packages/sklearn/utils/validation.py:1273\u001b[0m, in \u001b[0;36mcheck_X_y\u001b[0;34m(X, y, accept_sparse, accept_large_sparse, dtype, order, copy, force_all_finite, ensure_2d, allow_nd, multi_output, ensure_min_samples, ensure_min_features, y_numeric, estimator)\u001b[0m\n\u001b[1;32m   1268\u001b[0m         estimator_name \u001b[38;5;241m=\u001b[39m _check_estimator_name(estimator)\n\u001b[1;32m   1269\u001b[0m     \u001b[38;5;28;01mraise\u001b[39;00m \u001b[38;5;167;01mValueError\u001b[39;00m(\n\u001b[1;32m   1270\u001b[0m         \u001b[38;5;124mf\u001b[39m\u001b[38;5;124m\"\u001b[39m\u001b[38;5;132;01m{\u001b[39;00mestimator_name\u001b[38;5;132;01m}\u001b[39;00m\u001b[38;5;124m requires y to be passed, but the target y is None\u001b[39m\u001b[38;5;124m\"\u001b[39m\n\u001b[1;32m   1271\u001b[0m     )\n\u001b[0;32m-> 1273\u001b[0m X \u001b[38;5;241m=\u001b[39m \u001b[43mcheck_array\u001b[49m\u001b[43m(\u001b[49m\n\u001b[1;32m   1274\u001b[0m \u001b[43m    \u001b[49m\u001b[43mX\u001b[49m\u001b[43m,\u001b[49m\n\u001b[1;32m   1275\u001b[0m \u001b[43m    \u001b[49m\u001b[43maccept_sparse\u001b[49m\u001b[38;5;241;43m=\u001b[39;49m\u001b[43maccept_sparse\u001b[49m\u001b[43m,\u001b[49m\n\u001b[1;32m   1276\u001b[0m \u001b[43m    \u001b[49m\u001b[43maccept_large_sparse\u001b[49m\u001b[38;5;241;43m=\u001b[39;49m\u001b[43maccept_large_sparse\u001b[49m\u001b[43m,\u001b[49m\n\u001b[1;32m   1277\u001b[0m \u001b[43m    \u001b[49m\u001b[43mdtype\u001b[49m\u001b[38;5;241;43m=\u001b[39;49m\u001b[43mdtype\u001b[49m\u001b[43m,\u001b[49m\n\u001b[1;32m   1278\u001b[0m \u001b[43m    \u001b[49m\u001b[43morder\u001b[49m\u001b[38;5;241;43m=\u001b[39;49m\u001b[43morder\u001b[49m\u001b[43m,\u001b[49m\n\u001b[1;32m   1279\u001b[0m \u001b[43m    \u001b[49m\u001b[43mcopy\u001b[49m\u001b[38;5;241;43m=\u001b[39;49m\u001b[43mcopy\u001b[49m\u001b[43m,\u001b[49m\n\u001b[1;32m   1280\u001b[0m \u001b[43m    \u001b[49m\u001b[43mforce_all_finite\u001b[49m\u001b[38;5;241;43m=\u001b[39;49m\u001b[43mforce_all_finite\u001b[49m\u001b[43m,\u001b[49m\n\u001b[1;32m   1281\u001b[0m \u001b[43m    \u001b[49m\u001b[43mensure_2d\u001b[49m\u001b[38;5;241;43m=\u001b[39;49m\u001b[43mensure_2d\u001b[49m\u001b[43m,\u001b[49m\n\u001b[1;32m   1282\u001b[0m \u001b[43m    \u001b[49m\u001b[43mallow_nd\u001b[49m\u001b[38;5;241;43m=\u001b[39;49m\u001b[43mallow_nd\u001b[49m\u001b[43m,\u001b[49m\n\u001b[1;32m   1283\u001b[0m \u001b[43m    \u001b[49m\u001b[43mensure_min_samples\u001b[49m\u001b[38;5;241;43m=\u001b[39;49m\u001b[43mensure_min_samples\u001b[49m\u001b[43m,\u001b[49m\n\u001b[1;32m   1284\u001b[0m \u001b[43m    \u001b[49m\u001b[43mensure_min_features\u001b[49m\u001b[38;5;241;43m=\u001b[39;49m\u001b[43mensure_min_features\u001b[49m\u001b[43m,\u001b[49m\n\u001b[1;32m   1285\u001b[0m \u001b[43m    \u001b[49m\u001b[43mestimator\u001b[49m\u001b[38;5;241;43m=\u001b[39;49m\u001b[43mestimator\u001b[49m\u001b[43m,\u001b[49m\n\u001b[1;32m   1286\u001b[0m \u001b[43m    \u001b[49m\u001b[43minput_name\u001b[49m\u001b[38;5;241;43m=\u001b[39;49m\u001b[38;5;124;43m\"\u001b[39;49m\u001b[38;5;124;43mX\u001b[39;49m\u001b[38;5;124;43m\"\u001b[39;49m\u001b[43m,\u001b[49m\n\u001b[1;32m   1287\u001b[0m \u001b[43m\u001b[49m\u001b[43m)\u001b[49m\n\u001b[1;32m   1289\u001b[0m y \u001b[38;5;241m=\u001b[39m _check_y(y, multi_output\u001b[38;5;241m=\u001b[39mmulti_output, y_numeric\u001b[38;5;241m=\u001b[39my_numeric, estimator\u001b[38;5;241m=\u001b[39mestimator)\n\u001b[1;32m   1291\u001b[0m check_consistent_length(X, y)\n",
      "File \u001b[0;32m~/GitHub/bootcamp-python/.venv/lib/python3.10/site-packages/sklearn/utils/validation.py:1059\u001b[0m, in \u001b[0;36mcheck_array\u001b[0;34m(array, accept_sparse, accept_large_sparse, dtype, order, copy, force_all_finite, ensure_2d, allow_nd, ensure_min_samples, ensure_min_features, estimator, input_name)\u001b[0m\n\u001b[1;32m   1053\u001b[0m     \u001b[38;5;28;01mraise\u001b[39;00m \u001b[38;5;167;01mValueError\u001b[39;00m(\n\u001b[1;32m   1054\u001b[0m         \u001b[38;5;124m\"\u001b[39m\u001b[38;5;124mFound array with dim \u001b[39m\u001b[38;5;132;01m%d\u001b[39;00m\u001b[38;5;124m. \u001b[39m\u001b[38;5;132;01m%s\u001b[39;00m\u001b[38;5;124m expected <= 2.\u001b[39m\u001b[38;5;124m\"\u001b[39m\n\u001b[1;32m   1055\u001b[0m         \u001b[38;5;241m%\u001b[39m (array\u001b[38;5;241m.\u001b[39mndim, estimator_name)\n\u001b[1;32m   1056\u001b[0m     )\n\u001b[1;32m   1058\u001b[0m \u001b[38;5;28;01mif\u001b[39;00m force_all_finite:\n\u001b[0;32m-> 1059\u001b[0m     \u001b[43m_assert_all_finite\u001b[49m\u001b[43m(\u001b[49m\n\u001b[1;32m   1060\u001b[0m \u001b[43m        \u001b[49m\u001b[43marray\u001b[49m\u001b[43m,\u001b[49m\n\u001b[1;32m   1061\u001b[0m \u001b[43m        \u001b[49m\u001b[43minput_name\u001b[49m\u001b[38;5;241;43m=\u001b[39;49m\u001b[43minput_name\u001b[49m\u001b[43m,\u001b[49m\n\u001b[1;32m   1062\u001b[0m \u001b[43m        \u001b[49m\u001b[43mestimator_name\u001b[49m\u001b[38;5;241;43m=\u001b[39;49m\u001b[43mestimator_name\u001b[49m\u001b[43m,\u001b[49m\n\u001b[1;32m   1063\u001b[0m \u001b[43m        \u001b[49m\u001b[43mallow_nan\u001b[49m\u001b[38;5;241;43m=\u001b[39;49m\u001b[43mforce_all_finite\u001b[49m\u001b[43m \u001b[49m\u001b[38;5;241;43m==\u001b[39;49m\u001b[43m \u001b[49m\u001b[38;5;124;43m\"\u001b[39;49m\u001b[38;5;124;43mallow-nan\u001b[39;49m\u001b[38;5;124;43m\"\u001b[39;49m\u001b[43m,\u001b[49m\n\u001b[1;32m   1064\u001b[0m \u001b[43m    \u001b[49m\u001b[43m)\u001b[49m\n\u001b[1;32m   1066\u001b[0m \u001b[38;5;28;01mif\u001b[39;00m copy:\n\u001b[1;32m   1067\u001b[0m     \u001b[38;5;28;01mif\u001b[39;00m _is_numpy_namespace(xp):\n\u001b[1;32m   1068\u001b[0m         \u001b[38;5;66;03m# only make a copy if `array` and `array_orig` may share memory`\u001b[39;00m\n",
      "File \u001b[0;32m~/GitHub/bootcamp-python/.venv/lib/python3.10/site-packages/sklearn/utils/validation.py:126\u001b[0m, in \u001b[0;36m_assert_all_finite\u001b[0;34m(X, allow_nan, msg_dtype, estimator_name, input_name)\u001b[0m\n\u001b[1;32m    123\u001b[0m \u001b[38;5;28;01mif\u001b[39;00m first_pass_isfinite:\n\u001b[1;32m    124\u001b[0m     \u001b[38;5;28;01mreturn\u001b[39;00m\n\u001b[0;32m--> 126\u001b[0m \u001b[43m_assert_all_finite_element_wise\u001b[49m\u001b[43m(\u001b[49m\n\u001b[1;32m    127\u001b[0m \u001b[43m    \u001b[49m\u001b[43mX\u001b[49m\u001b[43m,\u001b[49m\n\u001b[1;32m    128\u001b[0m \u001b[43m    \u001b[49m\u001b[43mxp\u001b[49m\u001b[38;5;241;43m=\u001b[39;49m\u001b[43mxp\u001b[49m\u001b[43m,\u001b[49m\n\u001b[1;32m    129\u001b[0m \u001b[43m    \u001b[49m\u001b[43mallow_nan\u001b[49m\u001b[38;5;241;43m=\u001b[39;49m\u001b[43mallow_nan\u001b[49m\u001b[43m,\u001b[49m\n\u001b[1;32m    130\u001b[0m \u001b[43m    \u001b[49m\u001b[43mmsg_dtype\u001b[49m\u001b[38;5;241;43m=\u001b[39;49m\u001b[43mmsg_dtype\u001b[49m\u001b[43m,\u001b[49m\n\u001b[1;32m    131\u001b[0m \u001b[43m    \u001b[49m\u001b[43mestimator_name\u001b[49m\u001b[38;5;241;43m=\u001b[39;49m\u001b[43mestimator_name\u001b[49m\u001b[43m,\u001b[49m\n\u001b[1;32m    132\u001b[0m \u001b[43m    \u001b[49m\u001b[43minput_name\u001b[49m\u001b[38;5;241;43m=\u001b[39;49m\u001b[43minput_name\u001b[49m\u001b[43m,\u001b[49m\n\u001b[1;32m    133\u001b[0m \u001b[43m\u001b[49m\u001b[43m)\u001b[49m\n",
      "File \u001b[0;32m~/GitHub/bootcamp-python/.venv/lib/python3.10/site-packages/sklearn/utils/validation.py:175\u001b[0m, in \u001b[0;36m_assert_all_finite_element_wise\u001b[0;34m(X, xp, allow_nan, msg_dtype, estimator_name, input_name)\u001b[0m\n\u001b[1;32m    158\u001b[0m \u001b[38;5;28;01mif\u001b[39;00m estimator_name \u001b[38;5;129;01mand\u001b[39;00m input_name \u001b[38;5;241m==\u001b[39m \u001b[38;5;124m\"\u001b[39m\u001b[38;5;124mX\u001b[39m\u001b[38;5;124m\"\u001b[39m \u001b[38;5;129;01mand\u001b[39;00m has_nan_error:\n\u001b[1;32m    159\u001b[0m     \u001b[38;5;66;03m# Improve the error message on how to handle missing values in\u001b[39;00m\n\u001b[1;32m    160\u001b[0m     \u001b[38;5;66;03m# scikit-learn.\u001b[39;00m\n\u001b[1;32m    161\u001b[0m     msg_err \u001b[38;5;241m+\u001b[39m\u001b[38;5;241m=\u001b[39m (\n\u001b[1;32m    162\u001b[0m         \u001b[38;5;124mf\u001b[39m\u001b[38;5;124m\"\u001b[39m\u001b[38;5;130;01m\\n\u001b[39;00m\u001b[38;5;132;01m{\u001b[39;00mestimator_name\u001b[38;5;132;01m}\u001b[39;00m\u001b[38;5;124m does not accept missing values\u001b[39m\u001b[38;5;124m\"\u001b[39m\n\u001b[1;32m    163\u001b[0m         \u001b[38;5;124m\"\u001b[39m\u001b[38;5;124m encoded as NaN natively. For supervised learning, you might want\u001b[39m\u001b[38;5;124m\"\u001b[39m\n\u001b[0;32m   (...)\u001b[0m\n\u001b[1;32m    173\u001b[0m         \u001b[38;5;124m\"\u001b[39m\u001b[38;5;124m#estimators-that-handle-nan-values\u001b[39m\u001b[38;5;124m\"\u001b[39m\n\u001b[1;32m    174\u001b[0m     )\n\u001b[0;32m--> 175\u001b[0m \u001b[38;5;28;01mraise\u001b[39;00m \u001b[38;5;167;01mValueError\u001b[39;00m(msg_err)\n",
      "\u001b[0;31mValueError\u001b[0m: Input X contains NaN.\nLinearRegression does not accept missing values encoded as NaN natively. For supervised learning, you might want to consider sklearn.ensemble.HistGradientBoostingClassifier and Regressor which accept missing values encoded as NaNs natively. Alternatively, it is possible to preprocess the data, for instance by using an imputer transformer in a pipeline or drop samples with missing values. See https://scikit-learn.org/stable/modules/impute.html You can find a list of all estimators that handle NaN values at the following page: https://scikit-learn.org/stable/modules/impute.html#estimators-that-handle-nan-values"
     ]
    }
   ],
   "source": [
    "# expect an error\n",
    "\n",
    "from sklearn.linear_model import LinearRegression\n",
    "\n",
    "# Prepare the inputs\n",
    "X = np.array(imdb[\"Release Year\"]).reshape(-1, 1)\n",
    "y = np.array(imdb[\"Rating\"]).reshape(-1, 1)\n",
    "\n",
    "# Linear regression model\n",
    "regr = LinearRegression()\n",
    "regr.fit(X, y)"
   ]
  },
  {
   "cell_type": "markdown",
   "id": "86fe1e1c",
   "metadata": {},
   "source": [
    "The first step when dealing with missing data is finding it. The `info()` function we introduced earlier is useful to detect missing values encoded as NaN. Unfortunately, as we saw, not all missing values are encoded the same way. \n",
    "\n",
    "Sometimes the data types of our columns may provide some information. For example, the column Rating has type object which is used to represent text."
   ]
  },
  {
   "cell_type": "code",
   "execution_count": 37,
   "id": "5b729802",
   "metadata": {},
   "outputs": [
    {
     "name": "stdout",
     "output_type": "stream",
     "text": [
      "<class 'pandas.core.frame.DataFrame'>\n",
      "Index: 10003 entries, 0 to 43016\n",
      "Data columns (total 7 columns):\n",
      " #   Column        Non-Null Count  Dtype  \n",
      "---  ------        --------------  -----  \n",
      " 0   Title         10003 non-null  object \n",
      " 1   Release Year  9794 non-null   float64\n",
      " 2   End Year      4675 non-null   float64\n",
      " 3   Rating        10003 non-null  object \n",
      " 4   Cast          9912 non-null   object \n",
      " 5   Runtime       10003 non-null  object \n",
      " 6   Genre         10003 non-null  object \n",
      "dtypes: float64(2), object(5)\n",
      "memory usage: 883.2+ KB\n"
     ]
    }
   ],
   "source": [
    "# Show info\n",
    "imdb.info()"
   ]
  },
  {
   "cell_type": "markdown",
   "id": "4e4dd01f",
   "metadata": {},
   "source": [
    "<div class=\"alert alert-block alert-warning\">\n",
    "    <b>Note:</b> Release Year and End Year are type float64 even though years are integers. In Pandas, NaN is considered a float which forces a column of integers with missing values to become floats.\n",
    "</div>"
   ]
  },
  {
   "cell_type": "markdown",
   "id": "bf243895",
   "metadata": {},
   "source": [
    "To address missing values you can either remove the columns and/or rows with missing data (not always recommended) or replace/impute these values. Multiple imputation methods exist and choosing the right one is not always easy. For demonstration purposes we will replace the missing values in the Rating column for the mean of the existing values."
   ]
  },
  {
   "cell_type": "code",
   "execution_count": 38,
   "id": "20d3689a",
   "metadata": {},
   "outputs": [
    {
     "data": {
      "text/plain": [
       "0    8.2\n",
       "1    8.7\n",
       "2    7.9\n",
       "3    8.6\n",
       "4    8.0\n",
       "Name: Rating, dtype: float64"
      ]
     },
     "execution_count": 38,
     "metadata": {},
     "output_type": "execute_result"
    }
   ],
   "source": [
    "# Extract existing values\n",
    "true_rating = imdb.loc[imdb[\"Rating\"] != \"****\", \n",
    "                       \"Rating\"].astype(\"float\")\n",
    "true_rating.head()"
   ]
  },
  {
   "cell_type": "code",
   "execution_count": 39,
   "id": "9f227fc9",
   "metadata": {},
   "outputs": [
    {
     "data": {
      "text/plain": [
       "7.1"
      ]
     },
     "execution_count": 39,
     "metadata": {},
     "output_type": "execute_result"
    }
   ],
   "source": [
    "# Compute the mean\n",
    "mean_rating = np.mean(true_rating).round(1)\n",
    "mean_rating"
   ]
  },
  {
   "cell_type": "markdown",
   "id": "898d7f2c",
   "metadata": {},
   "source": [
    "Let's create a new column with the replaced values of the Rating column."
   ]
  },
  {
   "cell_type": "code",
   "execution_count": 40,
   "id": "d44b364c",
   "metadata": {
    "scrolled": true
   },
   "outputs": [
    {
     "data": {
      "text/plain": [
       "0    8.2\n",
       "1    8.7\n",
       "2    7.9\n",
       "3    8.6\n",
       "4      8\n",
       "Name: Rating, dtype: object"
      ]
     },
     "execution_count": 40,
     "metadata": {},
     "output_type": "execute_result"
    }
   ],
   "source": [
    "# Replace missing values with the mean\n",
    "new_ratings = imdb[\"Rating\"].replace(to_replace=\"****\", \n",
    "                                     value=mean_rating)\n",
    "new_ratings.head()"
   ]
  },
  {
   "cell_type": "code",
   "execution_count": 41,
   "id": "b8e31bd3",
   "metadata": {},
   "outputs": [
    {
     "data": {
      "text/html": [
       "<div>\n",
       "<style scoped>\n",
       "    .dataframe tbody tr th:only-of-type {\n",
       "        vertical-align: middle;\n",
       "    }\n",
       "\n",
       "    .dataframe tbody tr th {\n",
       "        vertical-align: top;\n",
       "    }\n",
       "\n",
       "    .dataframe thead th {\n",
       "        text-align: right;\n",
       "    }\n",
       "</style>\n",
       "<table border=\"1\" class=\"dataframe\">\n",
       "  <thead>\n",
       "    <tr style=\"text-align: right;\">\n",
       "      <th></th>\n",
       "      <th>Title</th>\n",
       "      <th>Release Year</th>\n",
       "      <th>End Year</th>\n",
       "      <th>Rating</th>\n",
       "      <th>Cast</th>\n",
       "      <th>Runtime</th>\n",
       "      <th>Genre</th>\n",
       "      <th>Rating2</th>\n",
       "    </tr>\n",
       "  </thead>\n",
       "  <tbody>\n",
       "    <tr>\n",
       "      <th>0</th>\n",
       "      <td>Wednesday</td>\n",
       "      <td>2022.0</td>\n",
       "      <td>NaN</td>\n",
       "      <td>8.2</td>\n",
       "      <td>Jenna Ortega, Hunter Doohan, Percy Hynes White...</td>\n",
       "      <td>45 min</td>\n",
       "      <td>Comedy, Crime, Fantasy</td>\n",
       "      <td>8.2</td>\n",
       "    </tr>\n",
       "    <tr>\n",
       "      <th>1</th>\n",
       "      <td>Yellowstone</td>\n",
       "      <td>2018.0</td>\n",
       "      <td>NaN</td>\n",
       "      <td>8.7</td>\n",
       "      <td>Kevin Costner, Luke Grimes, Kelly Reilly, Wes ...</td>\n",
       "      <td>60 min</td>\n",
       "      <td>Drama, Western</td>\n",
       "      <td>8.7</td>\n",
       "    </tr>\n",
       "    <tr>\n",
       "      <th>2</th>\n",
       "      <td>The White Lotus</td>\n",
       "      <td>2021.0</td>\n",
       "      <td>2023.0</td>\n",
       "      <td>7.9</td>\n",
       "      <td>Jennifer Coolidge, Jon Gries, F. Murray Abraha...</td>\n",
       "      <td>60 min</td>\n",
       "      <td>Comedy, Drama</td>\n",
       "      <td>7.9</td>\n",
       "    </tr>\n",
       "    <tr>\n",
       "      <th>3</th>\n",
       "      <td>1923</td>\n",
       "      <td>2022.0</td>\n",
       "      <td>2023.0</td>\n",
       "      <td>8.6</td>\n",
       "      <td>Harrison Ford, Helen Mirren, Brandon Sklenar, ...</td>\n",
       "      <td>60 min</td>\n",
       "      <td>Drama, Western</td>\n",
       "      <td>8.6</td>\n",
       "    </tr>\n",
       "    <tr>\n",
       "      <th>4</th>\n",
       "      <td>Jack Ryan</td>\n",
       "      <td>2018.0</td>\n",
       "      <td>NaN</td>\n",
       "      <td>8</td>\n",
       "      <td>John Krasinski, Wendell Pierce, Michael Kelly,...</td>\n",
       "      <td>60 min</td>\n",
       "      <td>Action, Drama, Thriller</td>\n",
       "      <td>8.0</td>\n",
       "    </tr>\n",
       "  </tbody>\n",
       "</table>\n",
       "</div>"
      ],
      "text/plain": [
       "             Title  Release Year  End Year Rating  \\\n",
       "0        Wednesday        2022.0       NaN    8.2   \n",
       "1      Yellowstone        2018.0       NaN    8.7   \n",
       "2  The White Lotus        2021.0    2023.0    7.9   \n",
       "3             1923        2022.0    2023.0    8.6   \n",
       "4        Jack Ryan        2018.0       NaN      8   \n",
       "\n",
       "                                                Cast Runtime  \\\n",
       "0  Jenna Ortega, Hunter Doohan, Percy Hynes White...  45 min   \n",
       "1  Kevin Costner, Luke Grimes, Kelly Reilly, Wes ...  60 min   \n",
       "2  Jennifer Coolidge, Jon Gries, F. Murray Abraha...  60 min   \n",
       "3  Harrison Ford, Helen Mirren, Brandon Sklenar, ...  60 min   \n",
       "4  John Krasinski, Wendell Pierce, Michael Kelly,...  60 min   \n",
       "\n",
       "                     Genre  Rating2  \n",
       "0   Comedy, Crime, Fantasy      8.2  \n",
       "1           Drama, Western      8.7  \n",
       "2            Comedy, Drama      7.9  \n",
       "3           Drama, Western      8.6  \n",
       "4  Action, Drama, Thriller      8.0  "
      ]
     },
     "execution_count": 41,
     "metadata": {},
     "output_type": "execute_result"
    }
   ],
   "source": [
    "# Create the new column with the filled Rating\n",
    "imdb[\"Rating2\"] = new_ratings.astype(\"float\")\n",
    "imdb.head()"
   ]
  },
  {
   "cell_type": "code",
   "execution_count": 42,
   "id": "a8c79ac0",
   "metadata": {},
   "outputs": [
    {
     "data": {
      "text/html": [
       "<div>\n",
       "<style scoped>\n",
       "    .dataframe tbody tr th:only-of-type {\n",
       "        vertical-align: middle;\n",
       "    }\n",
       "\n",
       "    .dataframe tbody tr th {\n",
       "        vertical-align: top;\n",
       "    }\n",
       "\n",
       "    .dataframe thead th {\n",
       "        text-align: right;\n",
       "    }\n",
       "</style>\n",
       "<table border=\"1\" class=\"dataframe\">\n",
       "  <thead>\n",
       "    <tr style=\"text-align: right;\">\n",
       "      <th></th>\n",
       "      <th>Rating</th>\n",
       "      <th>Rating2</th>\n",
       "    </tr>\n",
       "  </thead>\n",
       "  <tbody>\n",
       "    <tr>\n",
       "      <th>9</th>\n",
       "      <td>****</td>\n",
       "      <td>7.1</td>\n",
       "    </tr>\n",
       "    <tr>\n",
       "      <th>74</th>\n",
       "      <td>****</td>\n",
       "      <td>7.1</td>\n",
       "    </tr>\n",
       "    <tr>\n",
       "      <th>136</th>\n",
       "      <td>****</td>\n",
       "      <td>7.1</td>\n",
       "    </tr>\n",
       "    <tr>\n",
       "      <th>183</th>\n",
       "      <td>****</td>\n",
       "      <td>7.1</td>\n",
       "    </tr>\n",
       "    <tr>\n",
       "      <th>224</th>\n",
       "      <td>****</td>\n",
       "      <td>7.1</td>\n",
       "    </tr>\n",
       "  </tbody>\n",
       "</table>\n",
       "</div>"
      ],
      "text/plain": [
       "    Rating  Rating2\n",
       "9     ****      7.1\n",
       "74    ****      7.1\n",
       "136   ****      7.1\n",
       "183   ****      7.1\n",
       "224   ****      7.1"
      ]
     },
     "execution_count": 42,
     "metadata": {},
     "output_type": "execute_result"
    }
   ],
   "source": [
    "# Take a look at the changes\n",
    "imdb.loc[imdb[\"Rating\"] == \"****\", \n",
    "         [\"Rating\", \"Rating2\"]].head()"
   ]
  },
  {
   "cell_type": "markdown",
   "id": "8607e961",
   "metadata": {},
   "source": [
    "### Number only please!"
   ]
  },
  {
   "cell_type": "markdown",
   "id": "b1399929",
   "metadata": {},
   "source": [
    "Before we fill missing values on the Runtime column we need to remove everything that is not a number in its values. It seems that the runtime for all TV shows is in minutes, but we would need some confirmation. We will start by extracting the existing values as we did before."
   ]
  },
  {
   "cell_type": "code",
   "execution_count": 44,
   "id": "e778c3ee",
   "metadata": {},
   "outputs": [
    {
     "data": {
      "text/plain": [
       "0    45 min\n",
       "1    60 min\n",
       "2    60 min\n",
       "3    60 min\n",
       "4    60 min\n",
       "Name: Runtime, dtype: object"
      ]
     },
     "execution_count": 44,
     "metadata": {},
     "output_type": "execute_result"
    }
   ],
   "source": [
    "# Extract existing values\n",
    "true_runtime = imdb.loc[imdb[\"Runtime\"] != \"****\", \n",
    "                        \"Runtime\"]\n",
    "true_runtime.head()"
   ]
  },
  {
   "cell_type": "markdown",
   "id": "36461258",
   "metadata": {},
   "source": [
    "To check if all existing values match the `<number> min` format we will use a regular expression (regex) with the string function `match()`."
   ]
  },
  {
   "cell_type": "code",
   "execution_count": 45,
   "id": "3310e04a",
   "metadata": {},
   "outputs": [
    {
     "data": {
      "text/plain": [
       "True"
      ]
     },
     "execution_count": 45,
     "metadata": {},
     "output_type": "execute_result"
    }
   ],
   "source": [
    "# Check for matches\n",
    "format_match = true_runtime.str.match(\"[0-9]+ min\")\n",
    "format_match.any()"
   ]
  },
  {
   "cell_type": "markdown",
   "id": "d4baa87f",
   "metadata": {},
   "source": [
    "This regular expression matches digits from 0 to 9 (\\[0-9\\]) one or more times (+) followed by a space and the characters \"min\". We will not cover regular expressions, but make sure to check the resources to learn about regular expressions."
   ]
  },
  {
   "cell_type": "markdown",
   "id": "26cc798d",
   "metadata": {},
   "source": [
    "To check if absolutely all values match the format, we will use the `all()` function."
   ]
  },
  {
   "cell_type": "code",
   "execution_count": 46,
   "id": "537efabb",
   "metadata": {},
   "outputs": [
    {
     "data": {
      "text/plain": [
       "False"
      ]
     },
     "execution_count": 46,
     "metadata": {},
     "output_type": "execute_result"
    }
   ],
   "source": [
    "# Are all runtime values in minutes?\n",
    "format_match.all()"
   ]
  },
  {
   "cell_type": "markdown",
   "id": "c84568d6",
   "metadata": {},
   "source": [
    "Now we know we may have missed something. Let's look at the values that do not match the format."
   ]
  },
  {
   "cell_type": "code",
   "execution_count": 47,
   "id": "d0edd082",
   "metadata": {},
   "outputs": [
    {
     "data": {
      "text/plain": [
       "4371    1,290 min\n",
       "Name: Runtime, dtype: object"
      ]
     },
     "execution_count": 47,
     "metadata": {},
     "output_type": "execute_result"
    }
   ],
   "source": [
    "# Get values without a match\n",
    "true_runtime[~format_match]"
   ]
  },
  {
   "cell_type": "markdown",
   "id": "f9aca35d",
   "metadata": {},
   "source": [
    "Fortunately, we only missed a comma in our pattern. To compute the mean we will need to remove both: the comma and \"min\"."
   ]
  },
  {
   "cell_type": "code",
   "execution_count": 48,
   "id": "fc84677f",
   "metadata": {},
   "outputs": [
    {
     "data": {
      "text/plain": [
       "0    45\n",
       "1    60\n",
       "2    60\n",
       "3    60\n",
       "4    60\n",
       "Name: Runtime, dtype: int64"
      ]
     },
     "execution_count": 48,
     "metadata": {},
     "output_type": "execute_result"
    }
   ],
   "source": [
    "# Replace multiple values\n",
    "replace_dict = {\",\": \"\", \n",
    "                \" min\": \"\"}\n",
    "\n",
    "true_runtime_clean = true_runtime.replace(to_replace=replace_dict, \n",
    "                                          regex=True).astype(\"int\")\n",
    "true_runtime_clean.head()"
   ]
  },
  {
   "cell_type": "markdown",
   "id": "24796e39",
   "metadata": {},
   "source": [
    "With this, we can now compute the mean of our runtime values and fill the missing data. Remember we removed the comma and \"min\" to compute the mean of the existing runtimes, but we need to remove those for the real column values too."
   ]
  },
  {
   "cell_type": "code",
   "execution_count": 49,
   "id": "34f5bb0e",
   "metadata": {},
   "outputs": [
    {
     "data": {
      "text/plain": [
       "49.0"
      ]
     },
     "execution_count": 49,
     "metadata": {},
     "output_type": "execute_result"
    }
   ],
   "source": [
    "# Compute the mean runtime\n",
    "mean_runtime = np.mean(true_runtime_clean).round()\n",
    "mean_runtime"
   ]
  },
  {
   "cell_type": "code",
   "execution_count": 51,
   "id": "5357ff10",
   "metadata": {},
   "outputs": [
    {
     "data": {
      "text/plain": [
       "0    45\n",
       "1    60\n",
       "2    60\n",
       "3    60\n",
       "4    60\n",
       "Name: Runtime, dtype: object"
      ]
     },
     "execution_count": 51,
     "metadata": {},
     "output_type": "execute_result"
    }
   ],
   "source": [
    "# Replace missing values with the mean\n",
    "replace_dict = {\",\": \"\", \n",
    "                \" min\": \"\", \n",
    "                \"\\*\\*\\*\\*\": mean_runtime}\n",
    "\n",
    "new_runtimes = imdb[\"Runtime\"].replace(to_replace=replace_dict, \n",
    "                                       regex=True)\n",
    "new_runtimes.head()"
   ]
  },
  {
   "cell_type": "code",
   "execution_count": 52,
   "id": "eee65340",
   "metadata": {},
   "outputs": [
    {
     "data": {
      "text/html": [
       "<div>\n",
       "<style scoped>\n",
       "    .dataframe tbody tr th:only-of-type {\n",
       "        vertical-align: middle;\n",
       "    }\n",
       "\n",
       "    .dataframe tbody tr th {\n",
       "        vertical-align: top;\n",
       "    }\n",
       "\n",
       "    .dataframe thead th {\n",
       "        text-align: right;\n",
       "    }\n",
       "</style>\n",
       "<table border=\"1\" class=\"dataframe\">\n",
       "  <thead>\n",
       "    <tr style=\"text-align: right;\">\n",
       "      <th></th>\n",
       "      <th>Title</th>\n",
       "      <th>Release Year</th>\n",
       "      <th>End Year</th>\n",
       "      <th>Rating</th>\n",
       "      <th>Cast</th>\n",
       "      <th>Runtime</th>\n",
       "      <th>Genre</th>\n",
       "      <th>Rating2</th>\n",
       "      <th>Runtime2</th>\n",
       "    </tr>\n",
       "  </thead>\n",
       "  <tbody>\n",
       "    <tr>\n",
       "      <th>0</th>\n",
       "      <td>Wednesday</td>\n",
       "      <td>2022.0</td>\n",
       "      <td>NaN</td>\n",
       "      <td>8.2</td>\n",
       "      <td>Jenna Ortega, Hunter Doohan, Percy Hynes White...</td>\n",
       "      <td>45 min</td>\n",
       "      <td>Comedy, Crime, Fantasy</td>\n",
       "      <td>8.2</td>\n",
       "      <td>45</td>\n",
       "    </tr>\n",
       "    <tr>\n",
       "      <th>1</th>\n",
       "      <td>Yellowstone</td>\n",
       "      <td>2018.0</td>\n",
       "      <td>NaN</td>\n",
       "      <td>8.7</td>\n",
       "      <td>Kevin Costner, Luke Grimes, Kelly Reilly, Wes ...</td>\n",
       "      <td>60 min</td>\n",
       "      <td>Drama, Western</td>\n",
       "      <td>8.7</td>\n",
       "      <td>60</td>\n",
       "    </tr>\n",
       "    <tr>\n",
       "      <th>2</th>\n",
       "      <td>The White Lotus</td>\n",
       "      <td>2021.0</td>\n",
       "      <td>2023.0</td>\n",
       "      <td>7.9</td>\n",
       "      <td>Jennifer Coolidge, Jon Gries, F. Murray Abraha...</td>\n",
       "      <td>60 min</td>\n",
       "      <td>Comedy, Drama</td>\n",
       "      <td>7.9</td>\n",
       "      <td>60</td>\n",
       "    </tr>\n",
       "    <tr>\n",
       "      <th>3</th>\n",
       "      <td>1923</td>\n",
       "      <td>2022.0</td>\n",
       "      <td>2023.0</td>\n",
       "      <td>8.6</td>\n",
       "      <td>Harrison Ford, Helen Mirren, Brandon Sklenar, ...</td>\n",
       "      <td>60 min</td>\n",
       "      <td>Drama, Western</td>\n",
       "      <td>8.6</td>\n",
       "      <td>60</td>\n",
       "    </tr>\n",
       "    <tr>\n",
       "      <th>4</th>\n",
       "      <td>Jack Ryan</td>\n",
       "      <td>2018.0</td>\n",
       "      <td>NaN</td>\n",
       "      <td>8</td>\n",
       "      <td>John Krasinski, Wendell Pierce, Michael Kelly,...</td>\n",
       "      <td>60 min</td>\n",
       "      <td>Action, Drama, Thriller</td>\n",
       "      <td>8.0</td>\n",
       "      <td>60</td>\n",
       "    </tr>\n",
       "  </tbody>\n",
       "</table>\n",
       "</div>"
      ],
      "text/plain": [
       "             Title  Release Year  End Year Rating  \\\n",
       "0        Wednesday        2022.0       NaN    8.2   \n",
       "1      Yellowstone        2018.0       NaN    8.7   \n",
       "2  The White Lotus        2021.0    2023.0    7.9   \n",
       "3             1923        2022.0    2023.0    8.6   \n",
       "4        Jack Ryan        2018.0       NaN      8   \n",
       "\n",
       "                                                Cast Runtime  \\\n",
       "0  Jenna Ortega, Hunter Doohan, Percy Hynes White...  45 min   \n",
       "1  Kevin Costner, Luke Grimes, Kelly Reilly, Wes ...  60 min   \n",
       "2  Jennifer Coolidge, Jon Gries, F. Murray Abraha...  60 min   \n",
       "3  Harrison Ford, Helen Mirren, Brandon Sklenar, ...  60 min   \n",
       "4  John Krasinski, Wendell Pierce, Michael Kelly,...  60 min   \n",
       "\n",
       "                     Genre  Rating2  Runtime2  \n",
       "0   Comedy, Crime, Fantasy      8.2        45  \n",
       "1           Drama, Western      8.7        60  \n",
       "2            Comedy, Drama      7.9        60  \n",
       "3           Drama, Western      8.6        60  \n",
       "4  Action, Drama, Thriller      8.0        60  "
      ]
     },
     "execution_count": 52,
     "metadata": {},
     "output_type": "execute_result"
    }
   ],
   "source": [
    "# Create a new column with the imputed runtimes\n",
    "imdb[\"Runtime2\"] = new_runtimes.astype(\"int\")\n",
    "imdb.head()"
   ]
  },
  {
   "cell_type": "markdown",
   "id": "1349f278",
   "metadata": {},
   "source": [
    "Additionally, if we were to select TV shows with a Release Year and End Year, we can subset our data using the `isna()` function."
   ]
  },
  {
   "cell_type": "code",
   "execution_count": 53,
   "id": "171de7b3",
   "metadata": {
    "scrolled": true
   },
   "outputs": [
    {
     "name": "stdout",
     "output_type": "stream",
     "text": [
      "<class 'pandas.core.frame.DataFrame'>\n",
      "Index: 4675 entries, 2 to 9995\n",
      "Data columns (total 9 columns):\n",
      " #   Column        Non-Null Count  Dtype  \n",
      "---  ------        --------------  -----  \n",
      " 0   Title         4675 non-null   object \n",
      " 1   Release Year  4675 non-null   float64\n",
      " 2   End Year      4675 non-null   float64\n",
      " 3   Rating        4675 non-null   object \n",
      " 4   Cast          4668 non-null   object \n",
      " 5   Runtime       4675 non-null   object \n",
      " 6   Genre         4675 non-null   object \n",
      " 7   Rating2       4675 non-null   float64\n",
      " 8   Runtime2      4675 non-null   int64  \n",
      "dtypes: float64(3), int64(1), object(5)\n",
      "memory usage: 365.2+ KB\n"
     ]
    }
   ],
   "source": [
    "# Select finished shows\n",
    "finished_shows = imdb[(~imdb[\"Release Year\"].isna()) & \n",
    "                      (~imdb[\"End Year\"].isna())]\n",
    "finished_shows.info()"
   ]
  },
  {
   "cell_type": "code",
   "execution_count": 54,
   "id": "d6851651",
   "metadata": {},
   "outputs": [
    {
     "name": "stdout",
     "output_type": "stream",
     "text": [
      "<class 'pandas.core.frame.DataFrame'>\n",
      "Index: 10003 entries, 0 to 43016\n",
      "Data columns (total 9 columns):\n",
      " #   Column        Non-Null Count  Dtype  \n",
      "---  ------        --------------  -----  \n",
      " 0   Title         10003 non-null  object \n",
      " 1   Release Year  9794 non-null   float64\n",
      " 2   End Year      4675 non-null   float64\n",
      " 3   Rating        10003 non-null  object \n",
      " 4   Cast          9912 non-null   object \n",
      " 5   Runtime       10003 non-null  object \n",
      " 6   Genre         10003 non-null  object \n",
      " 7   Rating2       10003 non-null  float64\n",
      " 8   Runtime2      10003 non-null  int64  \n",
      "dtypes: float64(3), int64(1), object(5)\n",
      "memory usage: 1.0+ MB\n"
     ]
    }
   ],
   "source": [
    "imdb.info()"
   ]
  },
  {
   "cell_type": "code",
   "execution_count": 55,
   "id": "cefe0c69",
   "metadata": {},
   "outputs": [
    {
     "data": {
      "text/html": [
       "<style>#sk-container-id-1 {\n",
       "  /* Definition of color scheme common for light and dark mode */\n",
       "  --sklearn-color-text: black;\n",
       "  --sklearn-color-line: gray;\n",
       "  /* Definition of color scheme for unfitted estimators */\n",
       "  --sklearn-color-unfitted-level-0: #fff5e6;\n",
       "  --sklearn-color-unfitted-level-1: #f6e4d2;\n",
       "  --sklearn-color-unfitted-level-2: #ffe0b3;\n",
       "  --sklearn-color-unfitted-level-3: chocolate;\n",
       "  /* Definition of color scheme for fitted estimators */\n",
       "  --sklearn-color-fitted-level-0: #f0f8ff;\n",
       "  --sklearn-color-fitted-level-1: #d4ebff;\n",
       "  --sklearn-color-fitted-level-2: #b3dbfd;\n",
       "  --sklearn-color-fitted-level-3: cornflowerblue;\n",
       "\n",
       "  /* Specific color for light theme */\n",
       "  --sklearn-color-text-on-default-background: var(--sg-text-color, var(--theme-code-foreground, var(--jp-content-font-color1, black)));\n",
       "  --sklearn-color-background: var(--sg-background-color, var(--theme-background, var(--jp-layout-color0, white)));\n",
       "  --sklearn-color-border-box: var(--sg-text-color, var(--theme-code-foreground, var(--jp-content-font-color1, black)));\n",
       "  --sklearn-color-icon: #696969;\n",
       "\n",
       "  @media (prefers-color-scheme: dark) {\n",
       "    /* Redefinition of color scheme for dark theme */\n",
       "    --sklearn-color-text-on-default-background: var(--sg-text-color, var(--theme-code-foreground, var(--jp-content-font-color1, white)));\n",
       "    --sklearn-color-background: var(--sg-background-color, var(--theme-background, var(--jp-layout-color0, #111)));\n",
       "    --sklearn-color-border-box: var(--sg-text-color, var(--theme-code-foreground, var(--jp-content-font-color1, white)));\n",
       "    --sklearn-color-icon: #878787;\n",
       "  }\n",
       "}\n",
       "\n",
       "#sk-container-id-1 {\n",
       "  color: var(--sklearn-color-text);\n",
       "}\n",
       "\n",
       "#sk-container-id-1 pre {\n",
       "  padding: 0;\n",
       "}\n",
       "\n",
       "#sk-container-id-1 input.sk-hidden--visually {\n",
       "  border: 0;\n",
       "  clip: rect(1px 1px 1px 1px);\n",
       "  clip: rect(1px, 1px, 1px, 1px);\n",
       "  height: 1px;\n",
       "  margin: -1px;\n",
       "  overflow: hidden;\n",
       "  padding: 0;\n",
       "  position: absolute;\n",
       "  width: 1px;\n",
       "}\n",
       "\n",
       "#sk-container-id-1 div.sk-dashed-wrapped {\n",
       "  border: 1px dashed var(--sklearn-color-line);\n",
       "  margin: 0 0.4em 0.5em 0.4em;\n",
       "  box-sizing: border-box;\n",
       "  padding-bottom: 0.4em;\n",
       "  background-color: var(--sklearn-color-background);\n",
       "}\n",
       "\n",
       "#sk-container-id-1 div.sk-container {\n",
       "  /* jupyter's `normalize.less` sets `[hidden] { display: none; }`\n",
       "     but bootstrap.min.css set `[hidden] { display: none !important; }`\n",
       "     so we also need the `!important` here to be able to override the\n",
       "     default hidden behavior on the sphinx rendered scikit-learn.org.\n",
       "     See: https://github.com/scikit-learn/scikit-learn/issues/21755 */\n",
       "  display: inline-block !important;\n",
       "  position: relative;\n",
       "}\n",
       "\n",
       "#sk-container-id-1 div.sk-text-repr-fallback {\n",
       "  display: none;\n",
       "}\n",
       "\n",
       "div.sk-parallel-item,\n",
       "div.sk-serial,\n",
       "div.sk-item {\n",
       "  /* draw centered vertical line to link estimators */\n",
       "  background-image: linear-gradient(var(--sklearn-color-text-on-default-background), var(--sklearn-color-text-on-default-background));\n",
       "  background-size: 2px 100%;\n",
       "  background-repeat: no-repeat;\n",
       "  background-position: center center;\n",
       "}\n",
       "\n",
       "/* Parallel-specific style estimator block */\n",
       "\n",
       "#sk-container-id-1 div.sk-parallel-item::after {\n",
       "  content: \"\";\n",
       "  width: 100%;\n",
       "  border-bottom: 2px solid var(--sklearn-color-text-on-default-background);\n",
       "  flex-grow: 1;\n",
       "}\n",
       "\n",
       "#sk-container-id-1 div.sk-parallel {\n",
       "  display: flex;\n",
       "  align-items: stretch;\n",
       "  justify-content: center;\n",
       "  background-color: var(--sklearn-color-background);\n",
       "  position: relative;\n",
       "}\n",
       "\n",
       "#sk-container-id-1 div.sk-parallel-item {\n",
       "  display: flex;\n",
       "  flex-direction: column;\n",
       "}\n",
       "\n",
       "#sk-container-id-1 div.sk-parallel-item:first-child::after {\n",
       "  align-self: flex-end;\n",
       "  width: 50%;\n",
       "}\n",
       "\n",
       "#sk-container-id-1 div.sk-parallel-item:last-child::after {\n",
       "  align-self: flex-start;\n",
       "  width: 50%;\n",
       "}\n",
       "\n",
       "#sk-container-id-1 div.sk-parallel-item:only-child::after {\n",
       "  width: 0;\n",
       "}\n",
       "\n",
       "/* Serial-specific style estimator block */\n",
       "\n",
       "#sk-container-id-1 div.sk-serial {\n",
       "  display: flex;\n",
       "  flex-direction: column;\n",
       "  align-items: center;\n",
       "  background-color: var(--sklearn-color-background);\n",
       "  padding-right: 1em;\n",
       "  padding-left: 1em;\n",
       "}\n",
       "\n",
       "\n",
       "/* Toggleable style: style used for estimator/Pipeline/ColumnTransformer box that is\n",
       "clickable and can be expanded/collapsed.\n",
       "- Pipeline and ColumnTransformer use this feature and define the default style\n",
       "- Estimators will overwrite some part of the style using the `sk-estimator` class\n",
       "*/\n",
       "\n",
       "/* Pipeline and ColumnTransformer style (default) */\n",
       "\n",
       "#sk-container-id-1 div.sk-toggleable {\n",
       "  /* Default theme specific background. It is overwritten whether we have a\n",
       "  specific estimator or a Pipeline/ColumnTransformer */\n",
       "  background-color: var(--sklearn-color-background);\n",
       "}\n",
       "\n",
       "/* Toggleable label */\n",
       "#sk-container-id-1 label.sk-toggleable__label {\n",
       "  cursor: pointer;\n",
       "  display: block;\n",
       "  width: 100%;\n",
       "  margin-bottom: 0;\n",
       "  padding: 0.5em;\n",
       "  box-sizing: border-box;\n",
       "  text-align: center;\n",
       "}\n",
       "\n",
       "#sk-container-id-1 label.sk-toggleable__label-arrow:before {\n",
       "  /* Arrow on the left of the label */\n",
       "  content: \"▸\";\n",
       "  float: left;\n",
       "  margin-right: 0.25em;\n",
       "  color: var(--sklearn-color-icon);\n",
       "}\n",
       "\n",
       "#sk-container-id-1 label.sk-toggleable__label-arrow:hover:before {\n",
       "  color: var(--sklearn-color-text);\n",
       "}\n",
       "\n",
       "/* Toggleable content - dropdown */\n",
       "\n",
       "#sk-container-id-1 div.sk-toggleable__content {\n",
       "  max-height: 0;\n",
       "  max-width: 0;\n",
       "  overflow: hidden;\n",
       "  text-align: left;\n",
       "  /* unfitted */\n",
       "  background-color: var(--sklearn-color-unfitted-level-0);\n",
       "}\n",
       "\n",
       "#sk-container-id-1 div.sk-toggleable__content.fitted {\n",
       "  /* fitted */\n",
       "  background-color: var(--sklearn-color-fitted-level-0);\n",
       "}\n",
       "\n",
       "#sk-container-id-1 div.sk-toggleable__content pre {\n",
       "  margin: 0.2em;\n",
       "  border-radius: 0.25em;\n",
       "  color: var(--sklearn-color-text);\n",
       "  /* unfitted */\n",
       "  background-color: var(--sklearn-color-unfitted-level-0);\n",
       "}\n",
       "\n",
       "#sk-container-id-1 div.sk-toggleable__content.fitted pre {\n",
       "  /* unfitted */\n",
       "  background-color: var(--sklearn-color-fitted-level-0);\n",
       "}\n",
       "\n",
       "#sk-container-id-1 input.sk-toggleable__control:checked~div.sk-toggleable__content {\n",
       "  /* Expand drop-down */\n",
       "  max-height: 200px;\n",
       "  max-width: 100%;\n",
       "  overflow: auto;\n",
       "}\n",
       "\n",
       "#sk-container-id-1 input.sk-toggleable__control:checked~label.sk-toggleable__label-arrow:before {\n",
       "  content: \"▾\";\n",
       "}\n",
       "\n",
       "/* Pipeline/ColumnTransformer-specific style */\n",
       "\n",
       "#sk-container-id-1 div.sk-label input.sk-toggleable__control:checked~label.sk-toggleable__label {\n",
       "  color: var(--sklearn-color-text);\n",
       "  background-color: var(--sklearn-color-unfitted-level-2);\n",
       "}\n",
       "\n",
       "#sk-container-id-1 div.sk-label.fitted input.sk-toggleable__control:checked~label.sk-toggleable__label {\n",
       "  background-color: var(--sklearn-color-fitted-level-2);\n",
       "}\n",
       "\n",
       "/* Estimator-specific style */\n",
       "\n",
       "/* Colorize estimator box */\n",
       "#sk-container-id-1 div.sk-estimator input.sk-toggleable__control:checked~label.sk-toggleable__label {\n",
       "  /* unfitted */\n",
       "  background-color: var(--sklearn-color-unfitted-level-2);\n",
       "}\n",
       "\n",
       "#sk-container-id-1 div.sk-estimator.fitted input.sk-toggleable__control:checked~label.sk-toggleable__label {\n",
       "  /* fitted */\n",
       "  background-color: var(--sklearn-color-fitted-level-2);\n",
       "}\n",
       "\n",
       "#sk-container-id-1 div.sk-label label.sk-toggleable__label,\n",
       "#sk-container-id-1 div.sk-label label {\n",
       "  /* The background is the default theme color */\n",
       "  color: var(--sklearn-color-text-on-default-background);\n",
       "}\n",
       "\n",
       "/* On hover, darken the color of the background */\n",
       "#sk-container-id-1 div.sk-label:hover label.sk-toggleable__label {\n",
       "  color: var(--sklearn-color-text);\n",
       "  background-color: var(--sklearn-color-unfitted-level-2);\n",
       "}\n",
       "\n",
       "/* Label box, darken color on hover, fitted */\n",
       "#sk-container-id-1 div.sk-label.fitted:hover label.sk-toggleable__label.fitted {\n",
       "  color: var(--sklearn-color-text);\n",
       "  background-color: var(--sklearn-color-fitted-level-2);\n",
       "}\n",
       "\n",
       "/* Estimator label */\n",
       "\n",
       "#sk-container-id-1 div.sk-label label {\n",
       "  font-family: monospace;\n",
       "  font-weight: bold;\n",
       "  display: inline-block;\n",
       "  line-height: 1.2em;\n",
       "}\n",
       "\n",
       "#sk-container-id-1 div.sk-label-container {\n",
       "  text-align: center;\n",
       "}\n",
       "\n",
       "/* Estimator-specific */\n",
       "#sk-container-id-1 div.sk-estimator {\n",
       "  font-family: monospace;\n",
       "  border: 1px dotted var(--sklearn-color-border-box);\n",
       "  border-radius: 0.25em;\n",
       "  box-sizing: border-box;\n",
       "  margin-bottom: 0.5em;\n",
       "  /* unfitted */\n",
       "  background-color: var(--sklearn-color-unfitted-level-0);\n",
       "}\n",
       "\n",
       "#sk-container-id-1 div.sk-estimator.fitted {\n",
       "  /* fitted */\n",
       "  background-color: var(--sklearn-color-fitted-level-0);\n",
       "}\n",
       "\n",
       "/* on hover */\n",
       "#sk-container-id-1 div.sk-estimator:hover {\n",
       "  /* unfitted */\n",
       "  background-color: var(--sklearn-color-unfitted-level-2);\n",
       "}\n",
       "\n",
       "#sk-container-id-1 div.sk-estimator.fitted:hover {\n",
       "  /* fitted */\n",
       "  background-color: var(--sklearn-color-fitted-level-2);\n",
       "}\n",
       "\n",
       "/* Specification for estimator info (e.g. \"i\" and \"?\") */\n",
       "\n",
       "/* Common style for \"i\" and \"?\" */\n",
       "\n",
       ".sk-estimator-doc-link,\n",
       "a:link.sk-estimator-doc-link,\n",
       "a:visited.sk-estimator-doc-link {\n",
       "  float: right;\n",
       "  font-size: smaller;\n",
       "  line-height: 1em;\n",
       "  font-family: monospace;\n",
       "  background-color: var(--sklearn-color-background);\n",
       "  border-radius: 1em;\n",
       "  height: 1em;\n",
       "  width: 1em;\n",
       "  text-decoration: none !important;\n",
       "  margin-left: 1ex;\n",
       "  /* unfitted */\n",
       "  border: var(--sklearn-color-unfitted-level-1) 1pt solid;\n",
       "  color: var(--sklearn-color-unfitted-level-1);\n",
       "}\n",
       "\n",
       ".sk-estimator-doc-link.fitted,\n",
       "a:link.sk-estimator-doc-link.fitted,\n",
       "a:visited.sk-estimator-doc-link.fitted {\n",
       "  /* fitted */\n",
       "  border: var(--sklearn-color-fitted-level-1) 1pt solid;\n",
       "  color: var(--sklearn-color-fitted-level-1);\n",
       "}\n",
       "\n",
       "/* On hover */\n",
       "div.sk-estimator:hover .sk-estimator-doc-link:hover,\n",
       ".sk-estimator-doc-link:hover,\n",
       "div.sk-label-container:hover .sk-estimator-doc-link:hover,\n",
       ".sk-estimator-doc-link:hover {\n",
       "  /* unfitted */\n",
       "  background-color: var(--sklearn-color-unfitted-level-3);\n",
       "  color: var(--sklearn-color-background);\n",
       "  text-decoration: none;\n",
       "}\n",
       "\n",
       "div.sk-estimator.fitted:hover .sk-estimator-doc-link.fitted:hover,\n",
       ".sk-estimator-doc-link.fitted:hover,\n",
       "div.sk-label-container:hover .sk-estimator-doc-link.fitted:hover,\n",
       ".sk-estimator-doc-link.fitted:hover {\n",
       "  /* fitted */\n",
       "  background-color: var(--sklearn-color-fitted-level-3);\n",
       "  color: var(--sklearn-color-background);\n",
       "  text-decoration: none;\n",
       "}\n",
       "\n",
       "/* Span, style for the box shown on hovering the info icon */\n",
       ".sk-estimator-doc-link span {\n",
       "  display: none;\n",
       "  z-index: 9999;\n",
       "  position: relative;\n",
       "  font-weight: normal;\n",
       "  right: .2ex;\n",
       "  padding: .5ex;\n",
       "  margin: .5ex;\n",
       "  width: min-content;\n",
       "  min-width: 20ex;\n",
       "  max-width: 50ex;\n",
       "  color: var(--sklearn-color-text);\n",
       "  box-shadow: 2pt 2pt 4pt #999;\n",
       "  /* unfitted */\n",
       "  background: var(--sklearn-color-unfitted-level-0);\n",
       "  border: .5pt solid var(--sklearn-color-unfitted-level-3);\n",
       "}\n",
       "\n",
       ".sk-estimator-doc-link.fitted span {\n",
       "  /* fitted */\n",
       "  background: var(--sklearn-color-fitted-level-0);\n",
       "  border: var(--sklearn-color-fitted-level-3);\n",
       "}\n",
       "\n",
       ".sk-estimator-doc-link:hover span {\n",
       "  display: block;\n",
       "}\n",
       "\n",
       "/* \"?\"-specific style due to the `<a>` HTML tag */\n",
       "\n",
       "#sk-container-id-1 a.estimator_doc_link {\n",
       "  float: right;\n",
       "  font-size: 1rem;\n",
       "  line-height: 1em;\n",
       "  font-family: monospace;\n",
       "  background-color: var(--sklearn-color-background);\n",
       "  border-radius: 1rem;\n",
       "  height: 1rem;\n",
       "  width: 1rem;\n",
       "  text-decoration: none;\n",
       "  /* unfitted */\n",
       "  color: var(--sklearn-color-unfitted-level-1);\n",
       "  border: var(--sklearn-color-unfitted-level-1) 1pt solid;\n",
       "}\n",
       "\n",
       "#sk-container-id-1 a.estimator_doc_link.fitted {\n",
       "  /* fitted */\n",
       "  border: var(--sklearn-color-fitted-level-1) 1pt solid;\n",
       "  color: var(--sklearn-color-fitted-level-1);\n",
       "}\n",
       "\n",
       "/* On hover */\n",
       "#sk-container-id-1 a.estimator_doc_link:hover {\n",
       "  /* unfitted */\n",
       "  background-color: var(--sklearn-color-unfitted-level-3);\n",
       "  color: var(--sklearn-color-background);\n",
       "  text-decoration: none;\n",
       "}\n",
       "\n",
       "#sk-container-id-1 a.estimator_doc_link.fitted:hover {\n",
       "  /* fitted */\n",
       "  background-color: var(--sklearn-color-fitted-level-3);\n",
       "}\n",
       "</style><div id=\"sk-container-id-1\" class=\"sk-top-container\"><div class=\"sk-text-repr-fallback\"><pre>LinearRegression()</pre><b>In a Jupyter environment, please rerun this cell to show the HTML representation or trust the notebook. <br />On GitHub, the HTML representation is unable to render, please try loading this page with nbviewer.org.</b></div><div class=\"sk-container\" hidden><div class=\"sk-item\"><div class=\"sk-estimator fitted sk-toggleable\"><input class=\"sk-toggleable__control sk-hidden--visually\" id=\"sk-estimator-id-1\" type=\"checkbox\" checked><label for=\"sk-estimator-id-1\" class=\"sk-toggleable__label fitted sk-toggleable__label-arrow fitted\">&nbsp;&nbsp;LinearRegression<a class=\"sk-estimator-doc-link fitted\" rel=\"noreferrer\" target=\"_blank\" href=\"https://scikit-learn.org/1.5/modules/generated/sklearn.linear_model.LinearRegression.html\">?<span>Documentation for LinearRegression</span></a><span class=\"sk-estimator-doc-link fitted\">i<span>Fitted</span></span></label><div class=\"sk-toggleable__content fitted\"><pre>LinearRegression()</pre></div> </div></div></div></div>"
      ],
      "text/plain": [
       "LinearRegression()"
      ]
     },
     "execution_count": 55,
     "metadata": {},
     "output_type": "execute_result"
    }
   ],
   "source": [
    "from sklearn.linear_model import LinearRegression\n",
    "\n",
    "# Prepare the inputs\n",
    "X = np.array(imdb[\"Runtime2\"]).reshape(-1, 1)\n",
    "y = np.array(imdb[\"Rating2\"]).reshape(-1, 1)\n",
    "\n",
    "# Linear regression model\n",
    "regr = LinearRegression()\n",
    "regr.fit(X, y)"
   ]
  },
  {
   "cell_type": "code",
   "execution_count": null,
   "id": "a2bde23c",
   "metadata": {},
   "outputs": [],
   "source": [
    "import matplotlib.pyplot as plt\n",
    "import numpy as np\n",
    "from sklearn.linear_model import LinearRegression\n",
    "\n",
    "# Prepare the inputs\n",
    "X = np.array(imdb[\"Runtime2\"]).reshape(-1, 1)\n",
    "y = np.array(imdb[\"Rating2\"]).reshape(-1, 1)\n",
    "\n",
    "# Linear regression model\n",
    "regr = LinearRegression()\n",
    "regr.fit(X, y)\n",
    "\n",
    "# Make predictions using the testing set\n",
    "y_pred = regr.predict(X)\n",
    "\n",
    "# Plot outputs\n",
    "plt.scatter(X, y,  color='black', label='Original data')\n",
    "plt.plot(X, y_pred, color='blue', linewidth=3, label='Fitted line')\n",
    "\n",
    "plt.legend() \n",
    "#plt.xticks(()) # no ticks\n",
    "#plt.yticks(())\n",
    "\n",
    "plt.savefig('regression_plot.png')\n",
    "\n",
    "plt.show()"
   ]
  },
  {
   "cell_type": "code",
   "execution_count": null,
   "id": "7791346f",
   "metadata": {},
   "outputs": [],
   "source": [
    "# Hands-On Excercise\n",
    "\n",
    "## 1. For happiness2019 dataframe, add a new column for year, named 'year' and set its values to 2019.\n",
    "## 2. Read in the \"2018.csv\" file as a new DataFrame named happiness2018.\n",
    "## 3. For happiness2018 datafeams, add a new column for year, named 'year' and set its values to 2018.\n",
    "## 4. Combine the two DataFrames and save it as a new DataFrame named happiness.\n",
    "## 5. Check for duplicates and drop them if any.\n",
    "## 6. Generate a scatter plot of the \"Score\" and \"GDP per capita\" columns.\n",
    "## 7. Fit a linear regression model to the data and plot the fitted line.\n",
    "## 8. Save the plot as \"regression_plot.png\"."
   ]
  },
  {
   "cell_type": "markdown",
   "id": "506180cd",
   "metadata": {},
   "source": [
    "<div class=\"alert alert-block alert-warning\">\n",
    "    <b>Note:</b> You can also drop columns with NaN using the <code>dropna()</code> function with the subset argument.\n",
    "</div>"
   ]
  },
  {
   "cell_type": "markdown",
   "id": "bb81dc58",
   "metadata": {},
   "source": [
    "## Writing files\n",
    "\n",
    "Finally, writing our results to a file may be necessary to share our work or continue the analysis elsewhere. With Pandas we can write DataFrames to CSV, Excel and other file formats."
   ]
  },
  {
   "cell_type": "code",
   "execution_count": null,
   "id": "2c62732c",
   "metadata": {},
   "outputs": [],
   "source": [
    "# Write our DataFrame to CSV\n",
    "finished_shows.to_csv(\"data/finished_shows.csv\", \n",
    "                      index=False)"
   ]
  },
  {
   "cell_type": "code",
   "execution_count": null,
   "id": "7baecf93",
   "metadata": {},
   "outputs": [],
   "source": [
    "# Subset the happiness2019 DataFrame\n",
    "\n",
    "# Write to Excel\n"
   ]
  },
  {
   "cell_type": "markdown",
   "id": "7b77d34e",
   "metadata": {},
   "source": [
    "### Hands-On (homework)\n",
    "\n",
    "#### Find the most important factor for the Happiness score from the World Happiness data (combining data from 2016 through 2019)\n",
    "\n",
    "#### (Optional) Add one more factor that may significantly affect the score."
   ]
  },
  {
   "cell_type": "markdown",
   "id": "54eccdda",
   "metadata": {},
   "source": [
    "## Download your notebook\n",
    "\n",
    "![](https://raw.githubusercontent.com/CMC-QCL/python-data-manipulation/main/imgs/jhub_shutdown.png)\n",
    "\n",
    "![](https://raw.githubusercontent.com/CMC-QCL/python-data-manipulation/main/imgs/jhub_download.png)"
   ]
  },
  {
   "cell_type": "markdown",
   "id": "53d2003a",
   "metadata": {},
   "source": [
    "## Resources\n",
    "\n",
    "More about Pandas\n",
    "* Pandas documentation (https://pandas.pydata.org/docs/user_guide/10min.html)\n",
    "* Expand your skills (https://www.kaggle.com/learn/pandas)\n",
    "* More on Pandas (https://realpython.com/pandas-python-explore-dataset/)\n",
    "\n",
    "Imputation methods:\n",
    "* Flexible Imputation of Missing Data by Stef van Buuren (https://stefvanbuuren.name/fimd/) - Code examples in R\n",
    "* Scikit-learn documentation (https://scikit-learn.org/stable/modules/impute.html)\n",
    "\n",
    "Learn about regular expressions:\n",
    "* Regular expressions in Python (https://realpython.com/regex-python/)\n",
    "* Build and test regular expressions (https://regex101.com/)\n",
    "* Regex cheat sheet (https://www.rexegg.com/regex-quickstart.html)\n",
    "\n",
    "Finally, tools change:\n",
    "* Pandas vs. Polars (https://studioterabyte.nl/en/blog/polars-vs-pandas)\n",
    "* Polars tutorial (https://www.codemag.com/Article/2212051/Using-the-Polars-DataFrame-Library)"
   ]
  }
 ],
 "metadata": {
  "kernelspec": {
   "display_name": "Python 3 (ipykernel)",
   "language": "python",
   "name": "python3"
  },
  "language_info": {
   "codemirror_mode": {
    "name": "ipython",
    "version": 3
   },
   "file_extension": ".py",
   "mimetype": "text/x-python",
   "name": "python",
   "nbconvert_exporter": "python",
   "pygments_lexer": "ipython3",
   "version": "3.10.2"
  }
 },
 "nbformat": 4,
 "nbformat_minor": 5
}
